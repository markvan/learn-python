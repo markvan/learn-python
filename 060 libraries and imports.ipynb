{
 "cells": [
  {
   "cell_type": "markdown",
   "metadata": {},
   "source": "### <span style=\"color:#CA762B\">**What Is the Difference Between Modules and Libraries?**</span>\n- **Modules**: A module is a single Python file (`.py`) that contains functions, classes, and variables that can be reused in other scripts.\n  - Example: `math`, `os`, `sys`.\n\n- **Libraries**: A library is a collection of **multiple modules** packaged together to provide higher-level functionality for specific purposes like data manipulation, web development, or machine learning. Libraries often include many modules and even sub-packages.\n  - Example: `NumPy` (a library), contains modules like `numpy.core`, `numpy.linalg`.",
   "id": "16aed56abbc08da9"
  },
  {
   "cell_type": "markdown",
   "metadata": {},
   "source": "### <span style=\"color:#CA762B\">**Importing Modules from Libraries**</span>\nTo use functionality from a library or module, you need to **import it**. Python provides a few ways to do this:",
   "id": "3c585101d6acbe1"
  },
  {
   "cell_type": "markdown",
   "metadata": {},
   "source": [
    "### <span style=\"color:#CA762B\">**Import a Full Library (or Module)**</span>\n",
    "\n",
    "You use the `import` statement to make the entire library or module available in your script. Use **dot notation** to access specific functionality."
   ],
   "id": "ea0d20c75482c40a"
  },
  {
   "cell_type": "code",
   "metadata": {},
   "source": [
    "# Example: Importing full libraries\n",
    "import numpy\n",
    "import math\n\n",
    "# Using dot notation to access methods in the libraries\n",
    "array = numpy.array([1, 2, 3])\n",
    "factorial = math.factorial(5)\n\n",
    "print(array)       # Output: [1 2 3]\n",
    "print(factorial)   # Output: 120"
   ],
   "id": "4b2f14e8ea437ecf",
   "outputs": [],
   "execution_count": null
  },
  {
   "cell_type": "markdown",
   "metadata": {},
   "source": [
    "### <span style=\"color:#CA762B\">Import a Specific Module from a Library**</span>\n",
    "\n",
    "\n",
    "Some libraries have many modules. Instead of importing everything, you can import just the required module."
   ],
   "id": "7bef801a3c03ee92"
  },
  {
   "cell_type": "code",
   "metadata": {},
   "source": [
    "# Import only the 'random' module from the numpy library\n",
    "from numpy.random import randint\n\n",
    "# Generate 5 random integers\n",
    "random_numbers = randint(1, 100, 5)\n",
    "print(random_numbers)"
   ],
   "id": "bb57b6939038058c",
   "outputs": [],
   "execution_count": null
  },
  {
   "cell_type": "markdown",
   "metadata": {},
   "source": [
    "### <span style=\"color:#CA762B\">**Import Specific Functions or Variables**</span>\n",
    "\n",
    "You can import specific functions, variables, or classes directly without importing the full module."
   ],
   "id": "392c3d3cd841efa5"
  },
  {
   "cell_type": "code",
   "metadata": {},
   "source": [
    "# Importing specific functions from math\n",
    "from math import sqrt, pi\n\n",
    "print(sqrt(16))  # Output: 4.0\n",
    "print(pi)        # Output: 3.141592653589793"
   ],
   "id": "480e8f8d7c210bf",
   "outputs": [],
   "execution_count": null
  },
  {
   "cell_type": "markdown",
   "metadata": {},
   "source": [
    "### <span style=\"color:#CA762B\">**Import Using Aliases (e.g., `as`)**</span>\n",
    "Aliasing is useful when:\n",
    "- The module/library name is long.\n",
    "- There's a naming conflict with another module."
   ],
   "id": "5d2a591a8367684e"
  },
  {
   "cell_type": "code",
   "metadata": {},
   "source": [
    "# Importing pandas with an alias\n",
    "import pandas as pd\n\n",
    "# Using pd as an alias for pandas\n",
    "data = pd.DataFrame({\n",
    "    \"Name\": [\"Alice\", \"Bob\"],\n",
    "    \"Age\": [25, 30]\n",
    "})\n",
    "print(data)"
   ],
   "id": "b34e1559c31626ab",
   "outputs": [],
   "execution_count": null
  },
  {
   "cell_type": "markdown",
   "metadata": {},
   "source": [
    "### <span style=\"color:#CA762B\">**5. Import the Entire Library or Module (`*`)**</span>\n",
    "\n",
    "Import all contents of a library using the `*`. This is generally NOT recommended."
   ],
   "id": "6163c55f59a9a8c7"
  },
  {
   "cell_type": "code",
   "metadata": {},
   "source": [
    "# Example: Import everything from math\n",
    "from math import *\n\n",
    "print(sqrt(25))  # Output: 5.0\n",
    "print(pi)        # Output: 3.141592653589793"
   ],
   "id": "63cbcf8fdcfc18ce",
   "outputs": [],
   "execution_count": null
  },
  {
   "cell_type": "markdown",
   "metadata": {},
   "source": "### <span style=\"color:#CA762B\">**What Are Python Standard Libraries?**</span>\nThe **standard library** is a collection of modules and packages included with Python by default (no installation required). Some commonly used modules:\n- `math`: Mathematical functions.\n- `os`: Interacting with the operating system.\n- `sys`: Command-line arguments and Python runtime.\n- `datetime`: Working with dates and times.\n- `json`: Parsing and writing JSON data.\n\nUse these libraries by simply importing them without installation.",
   "id": "8aa331d9edaaa3e2"
  },
  {
   "cell_type": "markdown",
   "metadata": {},
   "source": [
    "### <span style=\"color:#CA762B\">### **Using Third-Party Libraries**</span>\n",
    "\n",
    "Python allows the use of third-party libraries, which can be installed using tools like `pip` (Python's package manager).\n",
    "\n",
    "**Steps to Install a Library**:\n",
    "1. Open your terminal or PyCharm's terminal.\n",
    "2. Run `pip install library_name`.\n",
    "\n",
    "Example:\n",
    "```bash\n",
    "pip install numpy\n",
    "pip install pandas\n",
    "```\n",
    "\n",
    "Once installed, you can import and use third-party libraries just like standard libraries."
   ],
   "id": "6de662e1ee129559"
  },
  {
   "cell_type": "code",
   "metadata": {},
   "source": [
    "# Example: Using a third-party library (requests)\n",
    "import requests\n\n",
    "response = requests.get(\"https://jsonplaceholder.typicode.com/posts\")\n",
    "print(response.json())"
   ],
   "id": "bf7d6125eb713719",
   "outputs": [],
   "execution_count": null
  },
  {
   "cell_type": "markdown",
   "metadata": {},
   "source": [
    "### <span style=\"color:#CA762B\">### **Dynamic Imports via `importlib`**</span>\n",
    "\n",
    "You can dynamically import modules using the `importlib.import_module()` function. This is useful in more advanced scenarios where the module name is determined at runtime."
   ],
   "id": "cd41f598d470963e"
  },
  {
   "cell_type": "code",
   "metadata": {},
   "source": [
    "import importlib\n\n",
    "# Dynamically import the math module\n",
    "math_module = importlib.import_module('math')\n\n",
    "print(math_module.sqrt(9))  # Output: 3.0"
   ],
   "id": "e069338e0a5ccfc",
   "outputs": [],
   "execution_count": null
  }
 ]
}
