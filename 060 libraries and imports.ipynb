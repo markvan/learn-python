{
 "cells": [
  {
   "cell_type": "markdown",
   "metadata": {},
   "source": "### <span style=\"color:#CA762B\">**What Is the Difference Between Modules and Libraries?**</span>\n- **Modules**: A module is a single Python file (`.py`) that contains functions, classes, and variables that can be reused in other scripts.\n  - Example: `math`, `os`, `sys`.\n\n- **Libraries**: A library is a collection of **multiple modules** packaged together to provide higher-level functionality for specific purposes like data manipulation, web development, or machine learning. Libraries often include many modules and even sub-packages.\n  - Example: `NumPy` (a library), contains modules like `numpy.core`, `numpy.linalg`."
  },
  {
   "cell_type": "markdown",
   "metadata": {},
   "source": "### <span style=\"color:#CA762B\">**Importing Modules from Libraries**</span>\nTo use functionality from a library or module, you need to **import it**. Python provides a few ways to do this:"
  },
  {
   "cell_type": "markdown",
   "metadata": {},
   "source": "### **1. Import a Full Library (or Module)**\n\nYou use the `import` statement to make the entire library or module available in your script. Use **dot notation** to access specific functionality."
  },
  {
   "cell_type": "code",
   "execution_count": null,
   "metadata": {},
   "outputs": [],
   "source": [
    "# Example: Importing full libraries\n",
    "import numpy\n",
    "import math\n\n",
    "# Using dot notation to access methods in the libraries\n",
    "array = numpy.array([1, 2, 3])\n",
    "factorial = math.factorial(5)\n\n",
    "print(array)       # Output: [1 2 3]\n",
    "print(factorial)   # Output: 120"
   ]
  },
  {
   "cell_type": "markdown",
   "metadata": {},
   "source": "### **2. Import a Specific Module from a Library**\n\nSome libraries have many modules. Instead of importing everything, you can import just the required module."
  },
  {
   "cell_type": "code",
   "execution_count": null,
   "metadata": {},
   "outputs": [],
   "source": [
    "# Import only the 'random' module from the numpy library\n",
    "from numpy.random import randint\n\n",
    "# Generate 5 random integers\n",
    "random_numbers = randint(1, 100, 5)\n",
    "print(random_numbers)"
   ]
  },
  {
   "cell_type": "markdown",
   "metadata": {},
   "source": "### **3. Import Specific Functions or Variables**\n\nYou can import specific functions, variables, or classes directly without importing the full module."
  },
  {
   "cell_type": "code",
   "execution_count": null,
   "metadata": {},
   "outputs": [],
   "source": [
    "# Importing specific functions from math\n",
    "from math import sqrt, pi\n\n",
    "print(sqrt(16))  # Output: 4.0\n",
    "print(pi)        # Output: 3.141592653589793"
   ]
  },
  {
   "cell_type": "markdown",
   "metadata": {},
   "source": "### **4. Import Using Aliases (e.g., `as`)**\nAliasing is useful when:\n- The module/library name is long.\n- There's a naming conflict with another module."
  },
  {
   "cell_type": "code",
   "execution_count": null,
   "metadata": {},
   "outputs": [],
   "source": [
    "# Importing pandas with an alias\n",
    "import pandas as pd\n\n",
    "# Using pd as an alias for pandas\n",
    "data = pd.DataFrame({\n",
    "    \"Name\": [\"Alice\", \"Bob\"],\n",
    "    \"Age\": [25, 30]\n",
    "})\n",
    "print(data)"
   ]
  },
  {
   "cell_type": "markdown",
   "metadata": {},
   "source": "### **5. Import the Entire Library or Module (`*`)**\n\nImport all contents of a library using the `*`. This is generally NOT recommended."
  },
  {
   "cell_type": "code",
   "execution_count": null,
   "metadata": {},
   "outputs": [],
   "source": [
    "# Example: Import everything from math\n",
    "from math import *\n\n",
    "print(sqrt(25))  # Output: 5.0\n",
    "print(pi)        # Output: 3.141592653589793"
   ]
  },
  {
   "cell_type": "markdown",
   "metadata": {},
   "source": "### <span style=\"color:#CA762B\">**What Are Python Standard Libraries?**</span>\nThe **standard library** is a collection of modules and packages included with Python by default (no installation required). Some commonly used modules:\n- `math`: Mathematical functions.\n- `os`: Interacting with the operating system.\n- `sys`: Command-line arguments and Python runtime.\n- `datetime`: Working with dates and times.\n- `json`: Parsing and writing JSON data.\n\nUse these libraries by simply importing them without installation."
  },
  {
   "cell_type": "markdown",
   "metadata": {},
   "source": "### **Using Third-Party Libraries**\n\nPython allows the use of third-party libraries, which can be installed using tools like `pip` (Python's package manager).\n\n**Steps to Install a Library**:\n1. Open your terminal or PyCharm's terminal.\n2. Run `pip install library_name`.\n\nExample:\n```bash\npip install numpy\npip install pandas\n```\n\nOnce installed, you can import and use third-party libraries just like standard libraries."
  },
  {
   "cell_type": "code",
   "execution_count": null,
   "metadata": {},
   "outputs": [],
   "source": [
    "# Example: Using a third-party library (requests)\n",
    "import requests\n\n",
    "response = requests.get(\"https://jsonplaceholder.typicode.com/posts\")\n",
    "print(response.json())"
   ]
  },
  {
   "cell_type": "markdown",
   "metadata": {},
   "source": "### **Dynamic Imports via `importlib`**\nYou can dynamically import modules using the `importlib.import_module()` function. This is useful in more advanced scenarios where the module name is determined at runtime."
  },
  {
   "cell_type": "code",
   "execution_count": null,
   "metadata": {},
   "outputs": [],
   "source": [
    "import importlib\n\n",
    "# Dynamically import the math module\n",
    "math_module = importlib.import_module('math')\n\n",
    "print(math_module.sqrt(9))  # Output: 3.0"
   ]
  },
  {
   "cell_type": "markdown",
   "metadata": {},
   "source": "### <span style=\"color:#CA762B\">**Why Use Libraries?**</span>\n\nLibraries save time because they provide pre-written, efficient implementations of common tasks. Here are some major libraries in Python:\n\n| **Category**       | **Library**        | **Purpose**                          |\n|---------------------|--------------------|--------------------------------------|\n| Data Analysis       | `pandas`, `NumPy` | Data processing and manipulation.    |\n| Machine Learning    | `scikit-learn`    | ML algorithms and tools.             |\n| Visualization       | `matplotlib`, `seaborn` | Plotting and data visualization. |\n| Web Development     | `Flask`, `Django` | Building web applications.           |\n| Network Requests    | `requests`        | Interacting with APIs or URLs.       |\n| File Handling       | `os`, `shutil`    | File manipulation.                   |"
  },
  {
   "cell_type": "markdown",
   "metadata": {},
   "source": "### **Common Errors When Importing**\n1. **`ModuleNotFoundError`**: When a library/module isn’t installed or doesn’t exist.\n   - **Fix**: Make sure the library is installed (`pip install library_name`).\n\n2. **`ImportError`**: The function/class/variable doesn’t exist in the module.\n   - **Fix**: Verify it exists in the library.\n\n3. **Circular Imports**: This occurs when two modules import each other, creating a loop.\n   - **Fix**: Refactor your code to avoid circular dependencies."
  }
 ]
}