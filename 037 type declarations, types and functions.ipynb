{
 "cells": [
  {
   "cell_type": "markdown",
   "metadata": {},
   "source": [
    "### <span style=\"color:#CA762B\">Introduction to Static Typing</span>\n",
    "Static typing in Python allows developers to specify types for function arguments, return values, and variables using type hints. It helps catch type-related issues during development by using tools like **MyPy** or IDEs such as PyCharm. Static typing is optional and not enforced at runtime."
   ],
   "id": "b8cbdde148da9f0f"
  },
  {
   "cell_type": "markdown",
   "metadata": {},
   "source": "### <span style=\"color:#CA762B\">Example 1: Type Hints for Function Arguments and Return Values</span>",
   "id": "d51dd6c4c9fc1ca1"
  },
  {
   "cell_type": "code",
   "metadata": {},
   "source": [
    "from typing import List\n\n",
    "# Function to calculate the sum of two integers\n",
    "def add_numbers(a: int, b: int) -> int:\n",
    "    return a + b\n\n",
    "# Function to calculate the sum of a list of integers\n",
    "def sum_list(numbers: List[int]) -> int:\n",
    "    return sum(numbers)\n\n",
    "# Usage\n",
    "result = add_numbers(3, 5)  # result is of type int\n",
    "print(f\"Sum of numbers: {result}\")  # Output: 8\n\n",
    "numbers = [1, 2, 3, 4]\n",
    "sum_result = sum_list(numbers)  # sum_result is of type int\n",
    "print(f\"Sum of list: {sum_result}\")  # Output: 10"
   ],
   "id": "aeb0489fa21d4e9a",
   "outputs": [],
   "execution_count": null
  },
  {
   "cell_type": "markdown",
   "metadata": {},
   "source": "### <span style=\"color:#CA762B\">Example 2: Using `Union` for Arguments and Return Types</span>\nThe `Union` type allows us to specify that an argument or return value can be one of multiple types.",
   "id": "60302f15f629942c"
  },
  {
   "cell_type": "code",
   "metadata": {},
   "source": [
    "from typing import Union\n\n",
    "# Function that accepts either an int or a float\n",
    "def multiply_by_two(num: Union[int, float]) -> Union[int, float]:\n",
    "    return num * 2\n\n",
    "# Usage\n",
    "result1 = multiply_by_two(5)      # Input is int, Output is int\n",
    "result2 = multiply_by_two(3.5)    # Input is float, Output is float\n",
    "print(result1)  # Output: 10\n",
    "print(result2)  # Output: 7.0"
   ],
   "id": "7dd0bbb14c87090c",
   "outputs": [],
   "execution_count": null
  },
  {
   "cell_type": "markdown",
   "metadata": {},
   "source": "### <span style=\"color:#CA762B\">Example 3: Using `Optional` for Functions with Default Arguments</span>\nThe `Optional` type allows an argument to be a specific type or `None`.",
   "id": "6ad11566d8f4dd6d"
  },
  {
   "cell_type": "code",
   "metadata": {},
   "source": [
    "from typing import Optional\n\n",
    "# Function to greet a user, defaulting to \"Guest\" if no name is provided\n",
    "def greet(name: Optional[str] = None) -> str:\n",
    "    if name:\n",
    "        return f\"Hello, {name}!\"\n",
    "    return \"Hello, Guest!\"\n\n",
    "# Usage\n",
    "print(greet(\"Alice\"))  # Output: Hello, Alice!\n",
    "print(greet())         # Output: Hello, Guest!"
   ],
   "id": "bc06866a1afd10b2",
   "outputs": [],
   "execution_count": null
  },
  {
   "cell_type": "markdown",
   "metadata": {},
   "source": "### <span style=\"color:#CA762B\">Example 4: Typing for Complex Return Values (e.g., Tuple)</span>\nWe can annotate functions that return multiple values using `typing.Tuple` to specify the types of the returned elements.",
   "id": "5ddaf969ae77aa7d"
  },
  {
   "cell_type": "code",
   "metadata": {},
   "source": [
    "from typing import Tuple\n\n",
    "# Function to return both the sum and the product of two numbers\n",
    "def calculate(a: int, b: int) -> Tuple[int, int]:\n",
    "    sum_result = a + b\n",
    "    product_result = a * b\n",
    "    return sum_result, product_result\n\n",
    "# Usage\n",
    "result = calculate(3, 4)   # result is of type Tuple[int, int]\n",
    "print(f\"Sum: {result[0]}, Product: {result[1]}\")  # Output: Sum: 7, Product: 12"
   ],
   "id": "d163e8715409316e",
   "outputs": [],
   "execution_count": null
  },
  {
   "cell_type": "markdown",
   "metadata": {},
   "source": "### <span style=\"color:#CA762B\">Example 5: Using Type Aliases for Readability</span>\nType aliases allow complex types to be given meaningful names, improving code readability.",
   "id": "720505d5076ca46d"
  },
  {
   "cell_type": "code",
   "metadata": {},
   "source": [
    "from typing import List\n\n",
    "# Define a type alias for a list of strings\n",
    "StringList = List[str]\n\n",
    "# Function to combine a list of strings into a single string\n",
    "def combine_strings(strings: StringList) -> str:\n",
    "    return \" \".join(strings)\n\n",
    "# Usage\n",
    "names = [\"Alice\", \"Bob\", \"Charlie\"]\n",
    "result = combine_strings(names)\n",
    "print(result)  # Output: \"Alice Bob Charlie\""
   ],
   "id": "b65f3e3dd9251905",
   "outputs": [],
   "execution_count": null
  },
  {
   "cell_type": "markdown",
   "metadata": {},
   "source": "### <span style=\"color:#CA762B\">Example 6: Generics for Flexible Types</span>\nGenerics help define reusable code that can accept multiple types while maintaining type safety.",
   "id": "d8c737d75c0580be"
  },
  {
   "cell_type": "code",
   "metadata": {},
   "source": [
    "from typing import TypeVar, List\n\n",
    "T = TypeVar('T')  # A generic type\n\n",
    "# Function that returns the first element of a list\n",
    "def get_first_element(elements: List[T]) -> T:\n",
    "    return elements[0]\n\n",
    "# Usage\n",
    "ints = [1, 2, 3]\n",
    "strings = [\"Alice\", \"Bob\"]\n\n",
    "print(get_first_element(ints))    # Output: 1\n",
    "print(get_first_element(strings))  # Output: Alice"
   ],
   "id": "5c9f01da323d7efb",
   "outputs": [],
   "execution_count": null
  },
  {
   "cell_type": "markdown",
   "metadata": {},
   "source": "### <span style=\"color:#CA762B\">Summary</span>\nStatic typing enhances Python code clarity and prevents type-related bugs. It provides **type hints** for function arguments, return values, and variables. Use tools like **MyPy** or IDEs to enforce types during development, as Python does not validate types at runtime.",
   "id": "f12a10ad933d119e"
  },
  {
   "metadata": {},
   "cell_type": "code",
   "source": "",
   "id": "1c4764263d7ee077",
   "outputs": [],
   "execution_count": null
  }
 ],
 "metadata": {
  "kernelspec": {
   "name": "python3",
   "language": "python",
   "display_name": "Python 3 (ipykernel)"
  }
 }
}
