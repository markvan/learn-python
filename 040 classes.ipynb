{
 "cells": [
  {
   "cell_type": "markdown",
   "metadata": {},
   "source": "### <span style=\"color:#CA762B\">**Introduction to Python Classes**</span>\nPython is an **object-oriented programming** (OOP) language, where **classes** are the fundamental building blocks for creating custom objects. With classes, you can define the blueprint for attributes (data/state) and methods (functions/behavior) associated with an object.",
   "id": "fdf0bd671c6f72e5"
  },
  {
   "cell_type": "markdown",
   "metadata": {},
   "source": "### <span style=\"color:#CA762B\">**Key Components of a Class**</span>\n- **Class Declaration**: Defined using the `class` keyword.\n- **Attributes**: Variables that hold the state or properties of an object.\n- **Methods**: Functions defined within a class to describe its behavior.\n- **Constructor**: The `__init__` method, a special method to initialize an object when it is created.",
   "id": "ef02b4504cf83bdc"
  },
  {
   "cell_type": "markdown",
   "metadata": {},
   "source": "### <span style=\"color:#CA762B\">**Example: A Basic Python Class**</span>",
   "id": "79b392eddb37d18a"
  },
  {
   "cell_type": "code",
   "metadata": {},
   "source": [
    "# Creating a custom class\n",
    "class Person:\n",
    "    # Constructor to initialize the object\n",
    "    def __init__(self, name, age):\n",
    "        self.name = name  # Attribute\n",
    "        self.age = age    # Attribute\n\n",
    "    # Method to display the object's information\n",
    "    def greet(self):\n",
    "        return f\"Hello, my name is {self.name}, and I am {self.age} years old.\"\n\n",
    "# Creating an instance (object) of the class\n",
    "person1 = Person(\"Alice\", 30)\n",
    "person2 = Person(\"Bob\", 25)\n\n",
    "# Accessing attributes\n",
    "print(person1.name)  # Output: Alice\n",
    "print(person2.age)   # Output: 25\n\n",
    "# Calling a method\n",
    "print(person1.greet())  # Output: Hello, my name is Alice, and I am 30 years old."
   ],
   "id": "659d0b795af7dfc2",
   "outputs": [],
   "execution_count": null
  },
  {
   "cell_type": "markdown",
   "metadata": {},
   "source": "### <span style=\"color:#CA762B\">**Key Concepts in Python Classes**</span>",
   "id": "98ec8d57d4ea1cc8"
  },
  {
   "cell_type": "markdown",
   "metadata": {},
   "source": "### <span style=\"color:#CA762B\">**`self` Keyword**</span>\nWithin a method, the `self` keyword refers to the object itself. It is used to access attributes and methods of the object.",
   "id": "56194a818287b1e"
  },
  {
   "cell_type": "markdown",
   "metadata": {},
   "source": "### <span style=\"color:#CA762B\">**Instance vs. Class Variables**</span>\n- **Instance Variables**: Specific to an object, declared using `self`.\n- **Class Variables**: Shared across all objects, declared outside methods.",
   "id": "4fc8783ed93824f5"
  },
  {
   "cell_type": "code",
   "metadata": {},
   "source": [
    "class Example:\n",
    "    class_var = \"I am a class variable\"  # Class variable\n\n",
    "    def __init__(self, instance_var):\n",
    "        self.instance_var = instance_var  # Instance variable\n\n",
    "# Accessing class and instance variables\n",
    "obj1 = Example(\"Object 1 Variable\")\n",
    "obj2 = Example(\"Object 2 Variable\")\n\n",
    "print(obj1.class_var)       # Same for all instances\n",
    "print(obj1.instance_var)    # Specific to obj1\n",
    "print(obj2.instance_var)    # Specific to obj2"
   ],
   "id": "f49afdcff7b79109",
   "outputs": [],
   "execution_count": null
  },
  {
   "cell_type": "markdown",
   "metadata": {},
   "source": "### <span style=\"color:#CA762B\">**Special Methods (Magic/Dunder Methods)**</span>\nPython provides special methods to interact with Python syntax, such as constructors or overloading operators.\n- `__init__`: Called when an object is instantiated.\n- `__str__`: Returns a readable string representation.\n- `__add__`: Overloads the `+` operator.",
   "id": "b89f89e732e9c15f"
  },
  {
   "cell_type": "code",
   "metadata": {},
   "source": [
    "class Point:\n",
    "    def __init__(self, x, y):\n",
    "        self.x = x\n",
    "        self.y = y\n\n",
    "    def __add__(self, other):  # Overload '+' for Point objects\n",
    "        return Point(self.x + other.x, self.y + other.y)\n\n",
    "    def __repr__(self):  # String representation of the object\n",
    "        return f\"Point({self.x}, {self.y})\"\n\n",
    "p1 = Point(2, 3)\n",
    "p2 = Point(4, 5)\n",
    "p3 = p1 + p2  # Uses the __add__ method\n",
    "print(p3)     # Output: Point(6, 8)"
   ],
   "id": "a9ea11fa234859f4",
   "outputs": [],
   "execution_count": null
  },
  {
   "cell_type": "markdown",
   "metadata": {},
   "source": "### <span style=\"color:#CA762B\">**Inheritance**</span>\nInheritance allows a class to reuse the attributes and methods of another class. A subclass can also override its parent class's methods.",
   "id": "7ab566485cab9d5e"
  },
  {
   "cell_type": "code",
   "metadata": {},
   "source": [
    "# Parent class\n",
    "class Animal:\n",
    "    def __init__(self, name):\n",
    "        self.name = name\n\n",
    "    def speak(self):\n",
    "        return f\"{self.name} makes a sound.\"\n\n",
    "# Child class\n",
    "class Dog(Animal):\n",
    "    def speak(self):\n",
    "        return f\"{self.name} barks.\"\n\n",
    "# Usage\n",
    "dog = Dog(\"Rex\")\n",
    "print(dog.speak())  # Output: Rex barks"
   ],
   "id": "9224fa8fb5adc75e",
   "outputs": [],
   "execution_count": null
  },
  {
   "cell_type": "markdown",
   "metadata": {},
   "source": "### <span style=\"color:#CA762B\">**Encapsulation**</span>\nEncapsulation restricts access to certain class variables or methods.\n- **Public (`self.var`)**: Accessible everywhere.\n- **Protected (`self._var`)**: Suggests it should only be accessed internally.\n- **Private (`self.__var`)**: Only accessible within the class.",
   "id": "edbcafbfe90c39b2"
  },
  {
   "cell_type": "code",
   "metadata": {},
   "source": [
    "class Example:\n",
    "    def __init__(self):\n",
    "        self.public = \"I am public\"\n",
    "        self._protected = \"I am protected\"\n",
    "        self.__private = \"I am private\"\n\n",
    "    def get_private(self):  # Allows access to private attributes via method\n",
    "        return self.__private\n\n",
    "obj = Example()\n",
    "print(obj.public)        # Accessible\n",
    "print(obj._protected)    # Accessible but intended for internal use\n",
    "print(obj.get_private()) # Access private variable through method"
   ],
   "id": "951449a46a20698b",
   "outputs": [],
   "execution_count": null
  },
  {
   "cell_type": "markdown",
   "metadata": {},
   "source": "### <span style=\"color:#CA762B\">**Polymorphism**</span>\nPolymorphism allows methods of the same name to behave differently depending on the context.",
   "id": "95c58547e3598fc4"
  },
  {
   "cell_type": "code",
   "metadata": {},
   "source": [
    "class Cat:\n",
    "    def speak(self):\n",
    "        return \"Meow!\"\n\n",
    "class Dog:\n",
    "    def speak(self):\n",
    "        return \"Bark!\"\n\n",
    "# Usage\n",
    "animals = [Cat(), Dog()]\n",
    "for animal in animals:\n",
    "    print(animal.speak())\n",
    "# Output:\n",
    "# Meow!\n",
    "# Bark!"
   ],
   "id": "de306ae8974a5cf2",
   "outputs": [],
   "execution_count": null
  },
  {
   "cell_type": "markdown",
   "metadata": {},
   "source": "### <span style=\"color:#CA762B\">**Summary**</span>\nPython classes provide a foundation for object-oriented programming. Concepts like inheritance, encapsulation, and polymorphism enhance code reusability and modularity. Use them to create structured, maintainable, and reusable code!",
   "id": "3cf965730028d42"
  }
 ]
}
