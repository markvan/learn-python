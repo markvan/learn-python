{
 "cells": [
  {
   "cell_type": "markdown",
   "metadata": {},
   "source": "### <span style=\"color:#CA762B\">Defining a Simple Function</span>"
  },
  {
   "cell_type": "code",
   "metadata": {},
   "source": "def greet():\n    print(\"Hello, World!\")\n\ngreet()  # Output: Hello, World!",
   "outputs": [],
   "execution_count": null
  },
  {
   "cell_type": "markdown",
   "metadata": {},
   "source": "### <span style=\"color:#CA762B\">Functions with Parameters</span>"
  },
  {
   "cell_type": "code",
   "metadata": {},
   "source": [
    "def greet(name):\n",
    "    print(f\"Hello, {name}!\")\n",
    "\n",
    "greet(\"Alice\")  # Output: Hello, Alice!"
   ],
   "outputs": [],
   "execution_count": null
  },
  {
   "cell_type": "markdown",
   "metadata": {},
   "source": "### <span style=\"color:#CA762B\">Functions with Return Values</span>"
  },
  {
   "cell_type": "code",
   "metadata": {},
   "source": [
    "def add(a, b):\n",
    "    return a + b\n",
    "\n",
    "result = add(2, 3)  # Output: 5\n",
    "print(result)\n",
    "\n",
    "# functions can return more than one result\n",
    "def calculate(a, b):\n",
    "    # This function returns both the sum and the product of 'a' and 'b'\n",
    "    sum_result = a + b\n",
    "    product_result = a * b\n",
    "    return sum_result, product_result\n",
    "\n",
    "# Call the function and unpack the returned values\n",
    "sum_value, product_value = calculate(5, 3)\n",
    "\n",
    "print(f\"Sum: {sum_value} Product: {product_value}\")  # Output: Sum: 8 Product: 15"
   ],
   "outputs": [],
   "execution_count": null
  },
  {
   "cell_type": "markdown",
   "metadata": {},
   "source": "### <span style=\"color:#CA762B\">Default Parameter Values</span>"
  },
  {
   "cell_type": "code",
   "metadata": {},
   "source": "def greet(name=\"Guest\"):\n    print(f\"Hello, {name}!\")\n\ngreet()         # Output: Hello, Guest!\ngreet(\"Alice\")  # Output: Hello, Alice!",
   "outputs": [],
   "execution_count": null
  },
  {
   "cell_type": "markdown",
   "metadata": {},
   "source": "### <span style=\"color:#CA762B\">Variable-Length Arguments</span>"
  },
  {
   "cell_type": "markdown",
   "metadata": {},
   "source": "You can pass an arbitrary number of arguments using `*args` or `**kwargs`:\n\n**`*args`**: For a tuple of positional arguments."
  },
  {
   "cell_type": "code",
   "metadata": {},
   "source": "def add_all(*args):\n    return sum(args)\n\nresult = add_all(1, 2, 3, 4)  # Output: 10\nprint(result)",
   "outputs": [],
   "execution_count": null
  },
  {
   "cell_type": "markdown",
   "metadata": {},
   "source": "**`**kwargs`**: For a dictionary of keyword arguments."
  },
  {
   "cell_type": "code",
   "metadata": {},
   "source": "def print_kwargs(**kwargs):\n    for key, value in kwargs.items():\n        print(f\"{key}: {value}\")\n\nprint_kwargs(name=\"Alice\", age=25)  # Output: name: Alice, age: 25",
   "outputs": [],
   "execution_count": null
  },
  {
   "cell_type": "markdown",
   "metadata": {},
   "source": "### <span style=\"color:#CA762B\">Anonymous (Lambda) Functions</span>"
  },
  {
   "cell_type": "code",
   "metadata": {},
   "source": "add = lambda x, y: x + y\nresult = add(3, 4)  # Output: 7\nprint(result)",
   "outputs": [],
   "execution_count": null
  },
  {
   "cell_type": "markdown",
   "metadata": {},
   "source": "### <span style=\"color:#CA762B\">Nested Functions</span>"
  },
  {
   "cell_type": "code",
   "metadata": {},
   "source": "def outer():\n    def inner():\n        print(\"Hello from the inner function!\")\n    inner()\n\nouter()",
   "outputs": [],
   "execution_count": null
  },
  {
   "cell_type": "markdown",
   "metadata": {},
   "source": "### <span style=\"color:#CA762B\">Returning Functions</span>"
  },
  {
   "cell_type": "code",
   "metadata": {},
   "source": "def multiply_by(n):\n    return lambda x: x * n\n\ndouble = multiply_by(2)\nprint(double(5))  # Output: 10",
   "outputs": [],
   "execution_count": null
  },
  {
   "cell_type": "markdown",
   "metadata": {},
   "source": "### <span style=\"color:#CA762B\">First-Class Functions</span>"
  },
  {
   "cell_type": "code",
   "metadata": {},
   "source": "def greet(name):\n    return f\"Hello, {name}!\"\n\ndef execute_func(func, value):\n    print(func(value))\n\nexecute_func(greet, \"Alice\")  # Output: Hello, Alice!",
   "outputs": [],
   "execution_count": null
  },
  {
   "cell_type": "markdown",
   "metadata": {},
   "source": "### <span style=\"color:#CA762B\">Recursion</span>"
  },
  {
   "cell_type": "code",
   "metadata": {},
   "source": "def factorial(n):\n    if n == 1:\n        return 1\n    return n * factorial(n - 1)\n\nresult = factorial(5)  # Output: 120\nprint(result)",
   "outputs": [],
   "execution_count": null
  },
  {
   "cell_type": "markdown",
   "metadata": {},
   "source": "### <span style=\"color:#CA762B\">Using `*args` and `**kwargs` Together</span>"
  },
  {
   "cell_type": "code",
   "metadata": {},
   "source": "def mixed_func(a, *args, **kwargs):\n    print(f\"a: {a}\")\n    print(f\"args: {args}\")\n    print(f\"kwargs: {kwargs}\")\n\nmixed_func(1, 2, 3, name=\"Alice\", age=25)\n# Output: \n# a: 1\n# args: (2, 3)\n# kwargs: {'name': 'Alice', 'age': 25}",
   "outputs": [],
   "execution_count": null
  },
  {
   "cell_type": "markdown",
   "metadata": {},
   "source": "### <span style=\"color:#CA762B\">Docstrings</span>"
  },
  {
   "cell_type": "code",
   "metadata": {},
   "source": "def greet():\n    \"\"\"This function prints a greeting message.\"\"\"\n    print(\"Hello, World!\")\n\nprint(greet.__doc__)  # Output: This function prints a greeting message.",
   "outputs": [],
   "execution_count": null
  },
  {
   "cell_type": "markdown",
   "metadata": {},
   "source": "### <span style=\"color:#CA762B\">Decorators</span>"
  },
  {
   "cell_type": "code",
   "metadata": {},
   "source": "def decorator(func):\n    def wrapper():\n        print(\"Before the function call\")\n        func()\n        print(\"After the function call\")\n    return wrapper\n\n@decorator\ndef greet():\n    print(\"Hello!\")\n\ngreet()\n# Output:\n# Before the function call\n# Hello!\n# After the function call",
   "outputs": [],
   "execution_count": null
  }
 ],
 "metadata": {
  "kernelspec": {
   "display_name": "Python 3",
   "language": "python",
   "name": "python3"
  },
  "language_info": {
   "codemirror_mode": {
    "name": "ipython",
    "version": 3
   },
   "file_extension": ".py",
   "mimetype": "text/x-python",
   "name": "python",
   "nbconvert_exporter": "python",
   "pygments_lexer": "ipython3",
   "version": "3.8.5"
  }
 },
 "nbformat": 4,
 "nbformat_minor": 2
}
