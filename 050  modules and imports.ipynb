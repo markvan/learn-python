{
 "cells": [
  {
   "metadata": {},
   "cell_type": "markdown",
   "source": [
    "### <span style=\"color:#CA762B\">**What Are Modules in Python?**</span>\n",
    "A **module** in Python is simply a file containing Python code (functions, classes, or variables) with a `.py` extension. Modules allow you to organize your code into smaller, reusable pieces, which promotes modular programming and code reuse."
   ],
   "id": "39a8e13db44e278f"
  },
  {
   "cell_type": "markdown",
   "metadata": {},
   "source": "### <span style=\"color:#CA762B\">**How to Import a Module**</span>\nPython provides the `import` statement for bringing in modules and accessing their code. \n\nHere’s the basic syntax: \n\n```python\nimport module_name\n```\n\nThis loads the module, allowing you to access its functions and variables using **dot notation** (e.g., `module_name.function_name`).",
   "id": "6ae0778a9afbb48e"
  },
  {
   "cell_type": "code",
   "metadata": {},
   "source": [
    "# Example: Importing the math module\n",
    "import math\n",
    "\n",
    "print(math.floor(5.678))  # Output: 5\n",
    "print(math.ceil(5.678))  # Output: 6\n",
    "print(round(5.61,1)) # out 5.6, not part of math, rounds to the given number of dec places\n",
    "print(round(5.61))   # out 5, default to 0 places\n"
   ],
   "id": "ae24fe8d3dcf07c3",
   "outputs": [],
   "execution_count": null
  },
  {
   "metadata": {},
   "cell_type": "markdown",
   "source": [
    "### <span style=\"color:#CA762B\">**Import Specific Functions or Variables**</span>\n",
    "Instead of importing the whole module, you can import specific functions, classes, or variables using the `from ... import ...` syntax."
   ],
   "id": "435e502fb47f6d70"
  },
  {
   "cell_type": "code",
   "metadata": {},
   "source": [
    "# Example: Importing specific functionality\n",
    "from math import pi, sqrt\n\n",
    "print(pi)        # Output: 3.141592653589793\n",
    "print(sqrt(25))  # Output: 5.0"
   ],
   "id": "3b7ee96cd94136b4",
   "outputs": [],
   "execution_count": null
  },
  {
   "cell_type": "markdown",
   "metadata": {},
   "source": "### <span style=\"color:#CA762B\">**Renaming Modules (Using `as`)**</span>\nYou can import a module and give it an alias using the `as` keyword. This is especially useful to shorten long module names.",
   "id": "2a77b7b00d65cc63"
  },
  {
   "cell_type": "code",
   "metadata": {},
   "source": [
    "# Example: Importing with an alias\n",
    "import numpy as np\n\n",
    "# Using the alias to work with numpy arrays\n",
    "array = np.array([1, 2, 3])\n",
    "print(array)  # Output: [1 2 3]"
   ],
   "id": "56f56ffb4e43ce3f",
   "outputs": [],
   "execution_count": null
  },
  {
   "cell_type": "markdown",
   "metadata": {},
   "source": "### <span style=\"color:#CA762B\">**Importing All Contents of a Module**</span>\nTo import all the functions, variables, and classes of a module at once, use the asterisk (`*`). This makes everything in the module directly accessible without dot notation.\n\n**However**, this is generally discouraged because:\n- It can override existing functions or variables.\n- It reduces code readability by making it unclear where functions or variables are coming from.",
   "id": "cd3df411924fbd2d"
  },
  {
   "cell_type": "code",
   "metadata": {},
   "source": [
    "# Example: Importing everything from math\n",
    "from math import *\n\n",
    "print(sqrt(49))  # Output: 7.0\n",
    "print(pi)        # Output: 3.141592653589793"
   ],
   "id": "20c7541e58c96223",
   "outputs": [],
   "execution_count": null
  },
  {
   "cell_type": "markdown",
   "metadata": {},
   "source": "### <span style=\"color:#CA762B\">**Creating a Custom Module**</span>\nYou can create your own module by writing Python code in a `.py` file. For example, save the following code in a file named `my_module.py`:\n\n```python\n# my_module.py\n\ndef greet(name):\n    return f\"Hello, {name}!\"\n\ndef add(a, b):\n    return a + b\n```\n\nThen, you can import and use this module in another Python script.",
   "id": "2b3cbf85a43118ac"
  },
  {
   "cell_type": "code",
   "metadata": {},
   "source": [
    "# Example: Importing and using a custom module\n",
    "import my_module\n\n",
    "# Using functions from the custom module\n",
    "print(my_module.greet(\"Alice\"))  # Output: Hello, Alice!\n",
    "print(my_module.add(5, 7))       # Output: 12"
   ],
   "id": "d2babf18f0a77318",
   "outputs": [],
   "execution_count": null
  },
  {
   "metadata": {},
   "cell_type": "markdown",
   "source": [
    "### <span style=\"color:#CA762B\">**Search path for modules**</span>\n",
    "\n",
    "When you run a Python script and import a module, Python searches for that module in a list of directories. This list of directories is defined in **`sys.path`**.\n",
    "\n",
    "When you run a Python script, the interpreter sets up the sys.path variable, and the directories listed in the PYTHONPATH environment variable are added to it. Here's how sys.path is constructed:\n",
    "1. The directory of the executed script (or an empty string for read, eval, print, loop (REPL) environments like the interactive shell).\n",
    "2. PYTHONPATH environment variable (if it is set).\n",
    "3. Standard library directories.\n",
    "4. Paths defined by .pth files (additional directories enabled by tools or installed packages).\n",
    "\n",
    "You can view the current Python search path in your Python session, and modify it"
   ],
   "id": "8d3040ee0591e06"
  },
  {
   "metadata": {},
   "cell_type": "code",
   "source": [
    "print(sys.path, '\\n')\n",
    "sys.path.append('/path/to/your/module')\n",
    "print(sys.path, '\\n')\n",
    "sys.path.pop()\n",
    "print(sys.path)\n"
   ],
   "id": "b0128dbe444028e1",
   "outputs": [],
   "execution_count": null
  },
  {
   "metadata": {},
   "cell_type": "markdown",
   "source": "Provide imports from the same directory as a script is being run from, simply by their file names, because that directory is by default part of the search path controlled by Python's sys.path \n",
   "id": "426711104d1f09e3"
  },
  {
   "metadata": {},
   "cell_type": "code",
   "source": "from my_module_same_dir import something",
   "id": "6ccc490e85e6e989",
   "outputs": [],
   "execution_count": null
  },
  {
   "cell_type": "markdown",
   "metadata": {},
   "source": [
    "### <span style=\"color:#CA762B\">**When Imports Are Not Needed**</span>\n",
    "In some cases, you don’t need to explicitly import a module:\n",
    "\n",
    "1. **Built-in Functions**:\n",
    "   Python provides many built-in functions that are always available without requiring imports, such as `print`, `len`, `str`, `int`, `list`, etc.\n",
    "\n",
    "   **Example:**\n",
    "   ```python\n",
    "   print(\"This works without importing anything!\")\n",
    "   print(len([1, 2, 3]))\n",
    "   ```\n",
    "\n",
    "2. **Standard Library Imports**:\n",
    "   Some modules, like `sys` or `os`, might be preloaded if the environment requires them.\n",
    "\n",
    "3. **Imports by Frameworks**:\n",
    "   Frameworks like Django or Flask often manage imports internally. For example, when using Django, many standard utilities are available without explicit import.\n",
    "\n",
    "   **Example:**\n",
    "   ```python\n",
    "   from django.shortcuts import render\n",
    "   ```\n",
    "\n",
    "4. **Interactive Environment Preloaded Imports**:\n",
    "   Tools like Jupyter automatically make certain modules (e.g., `IPython`) available in the default environment."
   ],
   "id": "e0cccb54179a7c02"
  },
  {
   "cell_type": "markdown",
   "metadata": {},
   "source": "### <span style=\"color:#CA762B\">**Common Import Errors**</span>\nHere are some common errors when importing modules and how to resolve them:\n\n- **`ModuleNotFoundError`**: The module doesn’t exist or isn’t installed. \n  - Resolution: Install the module via `pip install module_name`.\n\n- **`ImportError`**: The imported function or variable doesn’t exist in the module.\n  - Resolution: Verify the function is defined in the targeted module.\n\n- **Circular Imports**: This occurs when two modules import each other, creating a loop.\n  - Resolution: Refactor your code to avoid circular dependencies.",
   "id": "330f0a813037b061"
  },
  {
   "cell_type": "markdown",
   "metadata": {},
   "source": "### <span style=\"color:#CA762B\">**Summary of Python Modules and Imports**</span>\n- **Modules** allow you to organize and reuse your code efficiently.\n- Use the `import` statement to include modules in your program.\n- You can import specific functions/variables, import everything, or alias the module for convenient access.\n- Use built-in modules (like `math`, `os`, `sys`) or create your own custom modules.\n- Avoid unnecessarily importing everything (`*`) to maintain readability and manage conflicts.",
   "id": "9394118bce05f19d"
  }
 ],
 "metadata": {
  "kernelspec": {
   "name": "python3",
   "language": "python",
   "display_name": "Python 3 (ipykernel)"
  }
 }
}
