{
 "cells": [
  {
   "cell_type": "code",
   "id": "initial_id",
   "metadata": {
    "collapsed": true,
    "ExecuteTime": {
     "end_time": "2025-02-17T15:47:40.308176Z",
     "start_time": "2025-02-17T15:47:40.305949Z"
    }
   },
   "source": [
    "\n",
    "str = \"abcdef\"\n",
    "print(len(str))"
   ],
   "outputs": [
    {
     "name": "stdout",
     "output_type": "stream",
     "text": [
      "6\n"
     ]
    }
   ],
   "execution_count": 15
  },
  {
   "metadata": {
    "ExecuteTime": {
     "end_time": "2025-02-17T15:47:40.403700Z",
     "start_time": "2025-02-17T15:47:40.400964Z"
    }
   },
   "cell_type": "code",
   "source": "print(str[-1])",
   "id": "ffc70cdffb41d6a2",
   "outputs": [
    {
     "name": "stdout",
     "output_type": "stream",
     "text": [
      "f\n"
     ]
    }
   ],
   "execution_count": 16
  },
  {
   "metadata": {
    "ExecuteTime": {
     "end_time": "2025-02-17T15:47:40.489565Z",
     "start_time": "2025-02-17T15:47:40.486182Z"
    }
   },
   "cell_type": "code",
   "source": "print(str[:-1])",
   "id": "3d8532749e3e5281",
   "outputs": [
    {
     "name": "stdout",
     "output_type": "stream",
     "text": [
      "abcde\n"
     ]
    }
   ],
   "execution_count": 17
  },
  {
   "metadata": {
    "ExecuteTime": {
     "end_time": "2025-02-17T15:47:40.555173Z",
     "start_time": "2025-02-17T15:47:40.552444Z"
    }
   },
   "cell_type": "code",
   "source": "(str[::-1])\n",
   "id": "c2699204227262d7",
   "outputs": [
    {
     "data": {
      "text/plain": [
       "'fedcba'"
      ]
     },
     "execution_count": 18,
     "metadata": {},
     "output_type": "execute_result"
    }
   ],
   "execution_count": 18
  },
  {
   "metadata": {
    "ExecuteTime": {
     "end_time": "2025-02-17T15:47:40.614806Z",
     "start_time": "2025-02-17T15:47:40.611666Z"
    }
   },
   "cell_type": "code",
   "source": "''.join(reversed(str))\n",
   "id": "a6696f59d7835637",
   "outputs": [
    {
     "data": {
      "text/plain": [
       "'fedcba'"
      ]
     },
     "execution_count": 19,
     "metadata": {},
     "output_type": "execute_result"
    }
   ],
   "execution_count": 19
  },
  {
   "metadata": {
    "ExecuteTime": {
     "end_time": "2025-02-17T15:47:40.663216Z",
     "start_time": "2025-02-17T15:47:40.660617Z"
    }
   },
   "cell_type": "code",
   "source": "\"\".join(c for c in reversed(str))",
   "id": "e34523102238373d",
   "outputs": [
    {
     "data": {
      "text/plain": [
       "'fedcba'"
      ]
     },
     "execution_count": 20,
     "metadata": {},
     "output_type": "execute_result"
    }
   ],
   "execution_count": 20
  },
  {
   "metadata": {
    "ExecuteTime": {
     "end_time": "2025-02-17T15:47:40.699216Z",
     "start_time": "2025-02-17T15:47:40.696212Z"
    }
   },
   "cell_type": "code",
   "source": "type(c for c in reversed(str))",
   "id": "f551e86f4c32fd0e",
   "outputs": [
    {
     "data": {
      "text/plain": [
       "generator"
      ]
     },
     "execution_count": 21,
     "metadata": {},
     "output_type": "execute_result"
    }
   ],
   "execution_count": 21
  },
  {
   "metadata": {
    "ExecuteTime": {
     "end_time": "2025-02-17T15:47:40.719363Z",
     "start_time": "2025-02-17T15:47:40.716720Z"
    }
   },
   "cell_type": "code",
   "source": [
    "list = [1,2,3,4,5]\n",
    "type(i for i in list)"
   ],
   "id": "8ec51b5bbee986ae",
   "outputs": [
    {
     "data": {
      "text/plain": [
       "generator"
      ]
     },
     "execution_count": 22,
     "metadata": {},
     "output_type": "execute_result"
    }
   ],
   "execution_count": 22
  },
  {
   "metadata": {
    "ExecuteTime": {
     "end_time": "2025-02-17T15:47:40.744949Z",
     "start_time": "2025-02-17T15:47:40.741911Z"
    }
   },
   "cell_type": "code",
   "source": "type(reversed(str))",
   "id": "38b96de0d5f0b949",
   "outputs": [
    {
     "data": {
      "text/plain": [
       "reversed"
      ]
     },
     "execution_count": 23,
     "metadata": {},
     "output_type": "execute_result"
    }
   ],
   "execution_count": 23
  },
  {
   "metadata": {},
   "cell_type": "markdown",
   "source": "### <span style=\"color:#CA762B\">lists</span>",
   "id": "ea38c0a6f4cdf20c"
  },
  {
   "metadata": {},
   "cell_type": "markdown",
   "source": "",
   "id": "ac4aa20eb1dddc55"
  },
  {
   "metadata": {
    "ExecuteTime": {
     "end_time": "2025-02-17T15:47:40.768768Z",
     "start_time": "2025-02-17T15:47:40.765556Z"
    }
   },
   "cell_type": "code",
   "source": [
    "lst = [2,  'str', 3.2, [1,2,3]]\n",
    "lst[3][1] = \"middle\"\n",
    "lst"
   ],
   "id": "9bf5988a2e17c48e",
   "outputs": [
    {
     "data": {
      "text/plain": [
       "[2, 'str', 3.2, [1, 'middle', 3]]"
      ]
     },
     "execution_count": 24,
     "metadata": {},
     "output_type": "execute_result"
    }
   ],
   "execution_count": 24
  },
  {
   "metadata": {
    "ExecuteTime": {
     "end_time": "2025-02-17T15:47:40.796590Z",
     "start_time": "2025-02-17T15:47:40.794314Z"
    }
   },
   "cell_type": "code",
   "source": [
    "# Pythonic way of sorting (in-place)\n",
    "my_list = [3, 1, 4, 1]\n",
    "\n",
    "my_list.sort(reverse=True)\n",
    "print(my_list)  # Output: [1, 1, 3, 4]\n",
    "\n",
    "# Pythonic way of sorting (new list)\n",
    "my_list = [3, 1, 4, 1]\n",
    "sorted_list = sorted(my_list, reverse=True)\n",
    "print(sorted_list)  # Output: [4, 3, 1, 1]"
   ],
   "id": "c5d609c997471103",
   "outputs": [
    {
     "name": "stdout",
     "output_type": "stream",
     "text": [
      "[4, 3, 1, 1]\n",
      "[4, 3, 1, 1]\n"
     ]
    }
   ],
   "execution_count": 25
  },
  {
   "metadata": {},
   "cell_type": "markdown",
   "source": "",
   "id": "2b1d6d81e9f8cbcd"
  },
  {
   "metadata": {},
   "cell_type": "markdown",
   "source": "### <span style=\"color:#CA762B\">tuples</span>\n",
   "id": "b333405d4b7fd7fb"
  },
  {
   "metadata": {
    "ExecuteTime": {
     "end_time": "2025-02-17T15:47:40.816220Z",
     "start_time": "2025-02-17T15:47:40.813482Z"
    }
   },
   "cell_type": "code",
   "source": [
    "tpl = (2,  'str', 3.2, [1,2,3])  # immutable tuple\n",
    "tpl"
   ],
   "id": "df8f8146f5ba798d",
   "outputs": [
    {
     "data": {
      "text/plain": [
       "(2, 'str', 3.2, [1, 2, 3])"
      ]
     },
     "execution_count": 26,
     "metadata": {},
     "output_type": "execute_result"
    }
   ],
   "execution_count": 26
  },
  {
   "metadata": {},
   "cell_type": "markdown",
   "source": "",
   "id": "86aec814a4bcb05b"
  },
  {
   "metadata": {},
   "cell_type": "markdown",
   "source": "### <span style=\"color:#CA762B\">dictionaries</span>\n",
   "id": "b329d7be9a5d6bfc"
  },
  {
   "metadata": {
    "ExecuteTime": {
     "end_time": "2025-02-17T15:47:40.842579Z",
     "start_time": "2025-02-17T15:47:40.840312Z"
    }
   },
   "cell_type": "code",
   "source": [
    "my_dict = {\"name\": \"Alice\", \"age\": 25}\n",
    "print(my_dict[\"name\"])  # Output: Alice\n",
    "my_dict[\"age\"] = 26  # Modify value\n",
    "print(my_dict)  # Output: {'name': 'Alice', 'age': 26}\n"
   ],
   "id": "bb67e2b292bad1d3",
   "outputs": [
    {
     "name": "stdout",
     "output_type": "stream",
     "text": [
      "Alice\n",
      "{'name': 'Alice', 'age': 26}\n"
     ]
    }
   ],
   "execution_count": 27
  },
  {
   "metadata": {
    "ExecuteTime": {
     "end_time": "2025-02-17T15:47:40.873695Z",
     "start_time": "2025-02-17T15:47:40.870456Z"
    }
   },
   "cell_type": "code",
   "source": [
    "dct = dict( [ ('entry_0','first'), (5,'second')])\n",
    "dct['entry_0']"
   ],
   "id": "8f43504ccc8d8e9b",
   "outputs": [
    {
     "data": {
      "text/plain": [
       "'first'"
      ]
     },
     "execution_count": 28,
     "metadata": {},
     "output_type": "execute_result"
    }
   ],
   "execution_count": 28
  },
  {
   "metadata": {},
   "cell_type": "markdown",
   "source": "",
   "id": "47095b0ea089f9de"
  },
  {
   "metadata": {},
   "cell_type": "markdown",
   "source": "<span style=\"color:#CA762B; font-size:14pt\">sorting dictionaries by key</span>",
   "id": "2a4d33385a65e25f"
  },
  {
   "metadata": {
    "ExecuteTime": {
     "end_time": "2025-02-17T15:47:40.888892Z",
     "start_time": "2025-02-17T15:47:40.886298Z"
    }
   },
   "cell_type": "code",
   "source": [
    "my_dict = {\"b\": 2, \"a\": 1, \"c\": 3}\n",
    "# Pythonic way of sorting by keys, via a sorted list\n",
    "print(type(sorted(my_dict.items())), sorted(my_dict.items()))\n",
    "sorted_by_keys = dict(sorted(my_dict.items()))\n",
    "print(sorted_by_keys)  # Output: {'a': 1, 'b': 2, 'c': 3}\n",
    "x=sorted(my_dict.items())\n",
    "type(x), type(x[0])\n",
    "my_d = dict(x)\n",
    "print(type(my_d), my_d)"
   ],
   "id": "2747b7a0938f40d4",
   "outputs": [
    {
     "name": "stdout",
     "output_type": "stream",
     "text": [
      "<class 'list'> [('a', 1), ('b', 2), ('c', 3)]\n",
      "{'a': 1, 'b': 2, 'c': 3}\n",
      "<class 'dict'> {'a': 1, 'b': 2, 'c': 3}\n"
     ]
    }
   ],
   "execution_count": 29
  },
  {
   "metadata": {
    "ExecuteTime": {
     "end_time": "2025-02-17T15:47:40.915763Z",
     "start_time": "2025-02-17T15:47:40.913167Z"
    }
   },
   "cell_type": "code",
   "source": [
    "# Pythonic way of sorting by values\n",
    "my_dict = {\"b\": 2, \"a\": 1, \"c\": 3, \"d\": 2}\n",
    "sorted_by_values = dict(sorted(my_dict.items(), key=lambda item: item[1]))\n",
    "print(sorted_by_values)  # Output: {'a': 1, 'b': 2, 'c': 3}"
   ],
   "id": "abb04a0a22686002",
   "outputs": [
    {
     "name": "stdout",
     "output_type": "stream",
     "text": [
      "{'a': 1, 'b': 2, 'd': 2, 'c': 3}\n"
     ]
    }
   ],
   "execution_count": 30
  },
  {
   "metadata": {
    "ExecuteTime": {
     "end_time": "2025-02-17T15:47:40.930355Z",
     "start_time": "2025-02-17T15:47:40.928011Z"
    }
   },
   "cell_type": "code",
   "source": "my_dict",
   "id": "5b5c9b9a5b307269",
   "outputs": [
    {
     "data": {
      "text/plain": [
       "{'b': 2, 'a': 1, 'c': 3, 'd': 2}"
      ]
     },
     "execution_count": 31,
     "metadata": {},
     "output_type": "execute_result"
    }
   ],
   "execution_count": 31
  },
  {
   "metadata": {},
   "cell_type": "markdown",
   "source": "<span style=\"color:#CA762B; font-size:14pt\">sorting dictionaries by value</span>\n",
   "id": "d50e449f231f0c0b"
  },
  {
   "metadata": {
    "ExecuteTime": {
     "end_time": "2025-02-17T15:47:40.958378Z",
     "start_time": "2025-02-17T15:47:40.955646Z"
    }
   },
   "cell_type": "code",
   "source": [
    "my_dict = {\"b\": 2, \"a\": 1, \"c\": 3}\n",
    "# understand .items() yeilds a list of tuples\n",
    "print(\"my_dict.items() \", type(my_dict.items()), my_dict.items(), '\\n')\n",
    "\n",
    "# Use dictionary items to access values\n",
    "list_of_values = [value for _, value in my_dict.items()]  \n",
    "print(\"values \", list_of_values, '\\n')\n",
    "\n",
    "print(\"type of sorted dict items \", type(sorted(my_dict.items(), key=lambda item: item[1])), \n",
    "      sorted(my_dict.items(), key=lambda item: item[1]),\n",
    "      \" -- now make it into a dictionary\")\n",
    "\n",
    "new_dict = dict(sorted(my_dict.items(), key=lambda item: item[1]))\n",
    "print(new_dict)\n"
   ],
   "id": "56ebe8c594798bc3",
   "outputs": [
    {
     "name": "stdout",
     "output_type": "stream",
     "text": [
      "my_dict.items()  <class 'dict_items'> dict_items([('b', 2), ('a', 1), ('c', 3)]) \n",
      "\n",
      "values  [2, 1, 3] \n",
      "\n",
      "type of sorted dict items  <class 'list'> [('a', 1), ('b', 2), ('c', 3)]  -- now make it into a dictionary\n",
      "{'a': 1, 'b': 2, 'c': 3}\n"
     ]
    }
   ],
   "execution_count": 32
  },
  {
   "metadata": {},
   "cell_type": "markdown",
   "source": "",
   "id": "95d49fc193deadf7"
  },
  {
   "metadata": {},
   "cell_type": "markdown",
   "source": "### <span style=\"color:#CA762B\">sets</span>\n",
   "id": "b74830329481487d"
  },
  {
   "metadata": {
    "ExecuteTime": {
     "end_time": "2025-02-17T15:47:40.971720Z",
     "start_time": "2025-02-17T15:47:40.969705Z"
    }
   },
   "cell_type": "code",
   "source": [
    "my_set = {1, 2, 3, 3}  # Duplicates are ignored\n",
    "print(type(my_set))\n",
    "my_set.add(4)\n",
    "print(my_set)  # Output: {1, 2, 3}"
   ],
   "id": "365f675233d3d766",
   "outputs": [
    {
     "name": "stdout",
     "output_type": "stream",
     "text": [
      "<class 'set'>\n",
      "{1, 2, 3, 4}\n"
     ]
    }
   ],
   "execution_count": 33
  },
  {
   "metadata": {
    "ExecuteTime": {
     "end_time": "2025-02-17T15:47:40.999382Z",
     "start_time": "2025-02-17T15:47:40.996884Z"
    }
   },
   "cell_type": "code",
   "source": [
    "my_set = {3, 1, 4, 2}\n",
    "# Sorting a set (results in a sorted list)\n",
    "sorted_list = sorted(my_set)\n",
    "print(type(sorted_list))\n",
    "print(sorted_list)\n",
    "\n",
    "# If converted back to a set (NOTE: Order will not be preserved)\n",
    "new_set = set(sorted_list)\n",
    "print(type(new_set))\n",
    "print(new_set)  # Output: {1, 2, 3, 4}, but may appear in arbitrary order"
   ],
   "id": "8b8b2f3513ff8c9",
   "outputs": [
    {
     "name": "stdout",
     "output_type": "stream",
     "text": [
      "<class 'list'>\n",
      "[1, 2, 3, 4]\n",
      "<class 'set'>\n",
      "{1, 2, 3, 4}\n"
     ]
    }
   ],
   "execution_count": 34
  },
  {
   "metadata": {},
   "cell_type": "markdown",
   "source": "### <span style=\"color:#CA762B\">frozen sets</span>\n",
   "id": "105de8f0f4be696"
  },
  {
   "metadata": {
    "ExecuteTime": {
     "end_time": "2025-02-17T15:47:41.015998Z",
     "start_time": "2025-02-17T15:47:41.014442Z"
    }
   },
   "cell_type": "code",
   "source": [
    "frozen = frozenset([1, 2, 3])\n",
    "# frozen.add(4)  # Error: Frozen sets are immutable"
   ],
   "id": "4ffe60367a5bd87b",
   "outputs": [],
   "execution_count": 35
  },
  {
   "metadata": {},
   "cell_type": "markdown",
   "source": [
    "### <span style=\"color:#CA762B\">sortedcontainers: SortedSet, SortedList, SortedDict</span>\n",
    "\n",
    "\n",
    "\n",
    "Key Data Structures:\n",
    "\n",
    "1. **SortedList**  \n",
    "   - A list that maintains its elements in sorted order.  \n",
    "   - Example operations: append, index search, slicing.\n",
    "\n",
    "2. **SortedSet**  \n",
    "   - A set that keeps elements sorted and unique.  \n",
    "   - Example operations: set operations (union, intersection), sorted access.\n",
    "\n",
    "3. **SortedDict**  \n",
    "   - A dictionary with keys sorted automatically.  \n",
    "   - Example operations: sorted key access, efficient range queries.\n",
    "\n",
    "\n",
    "Key Benefit:\n",
    "\n",
    "All structures offer **logarithmic time complexity** for key operations!"
   ],
   "id": "bd5eae096412f4b2"
  },
  {
   "metadata": {
    "ExecuteTime": {
     "end_time": "2025-02-17T15:47:41.031957Z",
     "start_time": "2025-02-17T15:47:41.022805Z"
    }
   },
   "cell_type": "code",
   "source": [
    "import sortedcontainers\n",
    "from sortedcontainers import SortedSet\n",
    "\n",
    "# Create a SortedSet\n",
    "my_sorted_set = SortedSet([5, 3, 1, 4, 2])\n",
    "\n",
    "# Add an element\n",
    "my_sorted_set.add(6)\n",
    "\n",
    "# Remove an element\n",
    "my_sorted_set.discard(3)\n",
    "\n",
    "# Print the sorted set\n",
    "print(my_sorted_set)\n",
    "# Output: SortedSet([1, 2, 4, 5, 6])\n",
    "\n",
    "# Check if element exists\n",
    "print(4 in my_sorted_set)\n",
    "# Output: True"
   ],
   "id": "f80609737f95d49a",
   "outputs": [
    {
     "ename": "ModuleNotFoundError",
     "evalue": "No module named 'sortedcontainers'",
     "output_type": "error",
     "traceback": [
      "\u001B[0;31m---------------------------------------------------------------------------\u001B[0m",
      "\u001B[0;31mModuleNotFoundError\u001B[0m                       Traceback (most recent call last)",
      "Cell \u001B[0;32mIn[36], line 1\u001B[0m\n\u001B[0;32m----> 1\u001B[0m \u001B[38;5;28;01mimport\u001B[39;00m \u001B[38;5;21;01msortedcontainers\u001B[39;00m\n\u001B[1;32m      2\u001B[0m \u001B[38;5;28;01mfrom\u001B[39;00m \u001B[38;5;21;01msortedcontainers\u001B[39;00m \u001B[38;5;28;01mimport\u001B[39;00m SortedSet\n\u001B[1;32m      4\u001B[0m \u001B[38;5;66;03m# Create a SortedSet\u001B[39;00m\n",
      "\u001B[0;31mModuleNotFoundError\u001B[0m: No module named 'sortedcontainers'"
     ]
    }
   ],
   "execution_count": 36
  },
  {
   "metadata": {},
   "cell_type": "markdown",
   "source": "",
   "id": "ad9e711ab5c17875"
  },
  {
   "metadata": {},
   "cell_type": "markdown",
   "source": "",
   "id": "1bd934ab4eab98a"
  },
  {
   "metadata": {},
   "cell_type": "markdown",
   "source": "",
   "id": "65b048e4a60ef9c9"
  },
  {
   "metadata": {},
   "cell_type": "markdown",
   "source": "### <span style=\"color:#CA762B\">list comprehensions</span>",
   "id": "d5ab90aba164253d"
  },
  {
   "metadata": {},
   "cell_type": "markdown",
   "source": [
    "list comprehensions can be used on various iterable types in Python\n",
    "\n",
    "1. **Lists**\n",
    "2. **Tuples**\n",
    "3. **Strings** (you can iterate over characters)\n",
    "4. **Dictionaries** (iterate over keys, values, or items)\n",
    "5. **Sets**\n",
    "6. **Generators**\n",
    "7. **Ranges** (e.g., `range(10)` produces a sequence of numbers)\n",
    "8. **Enumerators** (results from `enumerate()`)\n",
    "9. **Iterators** (any object implementing the iterator protocol)\n",
    "10. **Custom Iterables** (objects implementing the `__iter__` method)"
   ],
   "id": "e7767fdb50d85d8d"
  },
  {
   "metadata": {
    "ExecuteTime": {
     "end_time": "2025-02-17T15:47:41.040975Z",
     "start_time": "2025-02-17T15:45:59.834110Z"
    }
   },
   "cell_type": "code",
   "source": "dict(sorted(my_dict.items(), key=lambda item: item[1]))",
   "id": "360b76d73b89719b",
   "outputs": [
    {
     "data": {
      "text/plain": [
       "{'a': 1, 'b': 2, 'c': 3}"
      ]
     },
     "execution_count": 9,
     "metadata": {},
     "output_type": "execute_result"
    }
   ],
   "execution_count": 9
  },
  {
   "metadata": {
    "ExecuteTime": {
     "end_time": "2025-02-17T15:47:41.048528Z",
     "start_time": "2025-02-17T15:46:25.893162Z"
    }
   },
   "cell_type": "code",
   "source": "dict(sorted(my_dict.items() ))",
   "id": "10691b0b8c4e89f9",
   "outputs": [
    {
     "data": {
      "text/plain": [
       "{'a': 1, 'b': 2, 'c': 3}"
      ]
     },
     "execution_count": 10,
     "metadata": {},
     "output_type": "execute_result"
    }
   ],
   "execution_count": 10
  },
  {
   "metadata": {
    "ExecuteTime": {
     "end_time": "2025-02-17T15:49:06.985447Z",
     "start_time": "2025-02-17T15:49:06.978838Z"
    }
   },
   "cell_type": "code",
   "source": [
    "list = (sorted([1,5,4,0]))\n",
    "\n",
    "list"
   ],
   "id": "96ceaec37fedf46e",
   "outputs": [
    {
     "data": {
      "text/plain": [
       "[0, 1, 4, 5]"
      ]
     },
     "execution_count": 41,
     "metadata": {},
     "output_type": "execute_result"
    }
   ],
   "execution_count": 41
  },
  {
   "metadata": {
    "ExecuteTime": {
     "end_time": "2025-02-17T17:10:44.130244Z",
     "start_time": "2025-02-17T17:10:44.125843Z"
    }
   },
   "cell_type": "code",
   "source": "list = [{\"age: 3}]",
   "id": "5b94fd0c2181a3d0",
   "outputs": [
    {
     "data": {
      "text/plain": [
       "{(1, 2): 'a'}"
      ]
     },
     "execution_count": 52,
     "metadata": {},
     "output_type": "execute_result"
    }
   ],
   "execution_count": 52
  },
  {
   "metadata": {
    "ExecuteTime": {
     "end_time": "2025-02-17T15:51:08.216099Z",
     "start_time": "2025-02-17T15:51:08.211342Z"
    }
   },
   "cell_type": "code",
   "source": [
    "lst = [1,3,2, 5, 4, 6]\n",
    "lst.sort()\n",
    "lst"
   ],
   "id": "f28fa4c638474d8d",
   "outputs": [
    {
     "data": {
      "text/plain": [
       "[1, 2, 3, 4, 5, 6]"
      ]
     },
     "execution_count": 46,
     "metadata": {},
     "output_type": "execute_result"
    }
   ],
   "execution_count": 46
  },
  {
   "metadata": {
    "ExecuteTime": {
     "end_time": "2025-02-17T15:53:36.148513Z",
     "start_time": "2025-02-17T15:53:36.144106Z"
    }
   },
   "cell_type": "code",
   "source": [
    "import sortedcontainers\n",
    "from sortedcontainers import SortedSet\n",
    "my_set = {1, 6, 8, 4}\n",
    "sorted_set = SortedSet(my_set)\n",
    "sorted_set"
   ],
   "id": "38d026e64b8c4a09",
   "outputs": [
    {
     "data": {
      "text/plain": [
       "SortedSet([1, 4, 6, 8])"
      ]
     },
     "execution_count": 50,
     "metadata": {},
     "output_type": "execute_result"
    }
   ],
   "execution_count": 50
  },
  {
   "metadata": {},
   "cell_type": "code",
   "outputs": [],
   "source": "",
   "id": "be2ef5546b5b2d2a",
   "execution_count": null
  },
  {
   "metadata": {},
   "cell_type": "code",
   "outputs": [],
   "source": "",
   "id": "dfe39eaa8eccaf2b",
   "execution_count": null
  },
  {
   "metadata": {},
   "cell_type": "code",
   "outputs": [],
   "source": "",
   "id": "9da69364d18aacd3",
   "execution_count": null
  },
  {
   "metadata": {},
   "cell_type": "code",
   "outputs": [],
   "source": "",
   "id": "7abb6041adccf144",
   "execution_count": null
  }
 ],
 "metadata": {
  "kernelspec": {
   "display_name": "Python 3",
   "language": "python",
   "name": "python3"
  },
  "language_info": {
   "codemirror_mode": {
    "name": "ipython",
    "version": 2
   },
   "file_extension": ".py",
   "mimetype": "text/x-python",
   "name": "python",
   "nbconvert_exporter": "python",
   "pygments_lexer": "ipython2",
   "version": "2.7.6"
  }
 },
 "nbformat": 4,
 "nbformat_minor": 5
}
