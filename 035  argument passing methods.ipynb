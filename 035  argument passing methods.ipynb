{
 "cells": [
  {
   "cell_type": "markdown",
   "metadata": {},
   "source": [
    "### <span style=\"color:#CA762B\">Python Argument Passing Explained</span>\n",
    "Python uses <b>pass-by-object-reference</b> (or <b>call-by-sharing</b>) for passing arguments. Let's explore, but note this material all needs checking..."
   ],
   "id": "acbbbc45eecb45c0"
  },
  {
   "cell_type": "markdown",
   "metadata": {},
   "source": "**Immutable Objects:** Changes within a function don’t affect the original object (e.g., integers, strings).",
   "id": "e9b3b07b91b9f011"
  },
  {
   "cell_type": "code",
   "metadata": {},
   "source": [
    "def modify_immutable(x):\n",
    "    x = x + 1  # Creates a new object\n",
    "    print(\"Inside function:\", x)\n",
    "\n",
    "num = 10\n",
    "modify_immutable(num)\n",
    "print(\"Outside function:\", num)  # Original remains unchanged"
   ],
   "id": "a6569af83411444c",
   "outputs": [],
   "execution_count": null
  },
  {
   "cell_type": "markdown",
   "metadata": {},
   "source": "**Mutable Objects:** Changes within a function affect the original object (e.g., lists, dictionaries).",
   "id": "9132c6bc70d06af2"
  },
  {
   "cell_type": "code",
   "metadata": {},
   "source": [
    "def modify_mutable(my_list):\n",
    "    my_list.append(42)  # Modify the original list\n",
    "    print(\"Inside function:\", my_list)\n",
    "\n",
    "lst = [1, 2, 3]\n",
    "modify_mutable(lst)\n",
    "print(\"Outside function:\", lst)  # List is changed"
   ],
   "id": "e94ef33746609f86",
   "outputs": [],
   "execution_count": null
  },
  {
   "cell_type": "markdown",
   "metadata": {},
   "source": "**Reassignment Inside the Function:** Breaking the shared reference by reassignment creates a new local reference.",
   "id": "e7e8da2363114234"
  },
  {
   "cell_type": "code",
   "metadata": {},
   "source": [
    "def reassign_mutable(my_list):\n",
    "    my_list = [5, 6, 7]  # Create a new local reference\n",
    "    print(\"Inside function:\", my_list)\n",
    "\n",
    "lst = [1, 2, 3]\n",
    "reassign_mutable(lst)\n",
    "print(\"Outside function:\", lst)  # Original list remains unchanged"
   ],
   "id": "871b32e9fb9e122c",
   "outputs": [],
   "execution_count": null
  },
  {
   "cell_type": "markdown",
   "metadata": {},
   "source": [
    "### <span style=\"color:#CA762B\">**Summary**</span>\n",
    "- Immutable objects are safe from modification in functions.\n",
    "- Mutable objects can be modified in functions unless reassigned.\n",
    "- Python’s argument-passing behavior is often called <b>pass-by-object-reference</b>."
   ],
   "id": "4989befa776cbab0"
  },
  {
   "metadata": {},
   "cell_type": "code",
   "source": "",
   "id": "61f88cdea104d4d1",
   "outputs": [],
   "execution_count": null
  }
 ]
}
