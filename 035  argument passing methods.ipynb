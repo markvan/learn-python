{
 "cells": [
  {
   "cell_type": "markdown",
   "metadata": {},
   "source": "### <span style=\"color:#CA762B\">Python Argument Passing Explained</span>\nPython uses <b>pass-by-object-reference</b> (or <b>call-by-sharing</b>) for passing arguments. Let's explore:"
  },
  {
   "cell_type": "markdown",
   "metadata": {},
   "source": "**Immutable Objects:** Changes within a function don’t affect the original object (e.g., integers, strings)."
  },
  {
   "cell_type": "code",
   "metadata": {},
   "source": [
    "def modify_immutable(x):\n",
    "    x = x + 1  # Creates a new object\n",
    "    print(\"Inside function:\", x)\n",
    "\n",
    "num = 10\n",
    "modify_immutable(num)\n",
    "print(\"Outside function:\", num)  # Original remains unchanged"
   ],
   "execution_count": null,
   "outputs": []
  },
  {
   "cell_type": "markdown",
   "metadata": {},
   "source": "**Mutable Objects:** Changes within a function affect the original object (e.g., lists, dictionaries)."
  },
  {
   "cell_type": "code",
   "metadata": {},
   "source": [
    "def modify_mutable(my_list):\n",
    "    my_list.append(42)  # Modify the original list\n",
    "    print(\"Inside function:\", my_list)\n",
    "\n",
    "lst = [1, 2, 3]\n",
    "modify_mutable(lst)\n",
    "print(\"Outside function:\", lst)  # List is changed"
   ],
   "execution_count": null,
   "outputs": []
  },
  {
   "cell_type": "markdown",
   "metadata": {},
   "source": "**Reassignment Inside the Function:** Breaking the shared reference by reassignment creates a new local reference."
  },
  {
   "cell_type": "code",
   "metadata": {},
   "source": [
    "def reassign_mutable(my_list):\n",
    "    my_list = [5, 6, 7]  # Create a new local reference\n",
    "    print(\"Inside function:\", my_list)\n",
    "\n",
    "lst = [1, 2, 3]\n",
    "reassign_mutable(lst)\n",
    "print(\"Outside function:\", lst)  # Original list remains unchanged"
   ],
   "execution_count": null,
   "outputs": []
  },
  {
   "cell_type": "markdown",
   "metadata": {},
   "source": "**Summary:**\n- Immutable objects are safe from modification in functions.\n- Mutable objects can be modified in functions unless reassigned.\n- Python’s argument-passing behavior is often called <b>pass-by-object-reference</b>."
  }
 ]
}