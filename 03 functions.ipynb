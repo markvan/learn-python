# Functions in Python

In Python, **functions** are blocks of reusable code that perform a specific task. They provide modularity in your programs, making your code reusable, readable, and organized. Functions can take input as parameters, execute code, and optionally return a result.

---

## **Types of Functions in Python**

### 1. **Built-in Functions**
These are the functions that Python provides by default, such as `len()`, `print()`, `type()`, etc.

#### Examples:
```python
print("Hello, World!")     # Outputs: Hello, World!
print(len("Python"))       # Outputs: 6
print(type(42))            # Outputs: <class 'int'>
```

### 2. **User-Defined Functions**
You can define your own functions to execute specific tasks using the `def` keyword.

---

## **Defining a Function**

Here's a basic syntax to define a function:
```python
def function_name(parameters):
    """
    Optional docstring explaining the function.
    """
    # Code block
    return result  # (Optional)
```

### Example of a Simple Function:
```python
def greet(name):
    return f"Hello, {name}!"

print(greet("Alice"))  # Outputs: Hello, Alice!
```

---

## **Function Components**

- **Function Name:** The identifier that you use to call the function (`greet` in the example above).
- **Parameters:** Inputs the function accepts. These are inside the parentheses `(name)` in the example above.
- **Return Statement:** Functions can optionally send a value back to the caller using `return`.

---

## **Positional Arguments**

Arguments are passed based on their position in the function call.

#### Example:
```python
def add_numbers(a, b):
    return a + b

print(add_numbers(3, 5))  # Outputs: 8
```

---

## **Keyword Arguments**

Arguments can be passed using their parameter name, allowing flexibility in their order.

#### Example:
```python
def subtract(a, b):
    return a - b

print(subtract(b=10, a=7))  # Outputs: -3
```

---

## **Default Arguments**

Functions can have default values for parameters.

#### Example:
```python
def greet(name="Guest"):
    return f"Hello, {name}!"

print(greet())          # Outputs: Hello, Guest!
print(greet("Alice"))   # Outputs: Hello, Alice!
```

---

## **Variable-Length Arguments**

You can create functions that accept a variable number of arguments using `*args` (non-keyword arguments) or `**kwargs` (keyword arguments).

### Using `*args` for Variable-Length Arguments:
```python
def sum_all(*args):
    return sum(args)

print(sum_all(1, 2, 3))  # Outputs: 6
```

### Using `**kwargs` for Variable-Length Keyword Arguments:
```python
def describe_person(**kwargs):
    for key, value in kwargs.items():
        print(f"{key}: {value}")

describe_person(name="Alice", age=30)
# Outputs:
# name: Alice
# age: 30
```

---

## **Lambda Functions (One-Line Anonymous Functions)**

- These are small and restricted in scope. They are used for quick tasks.
- Syntax: `lambda arguments: expression`

#### Example:
```python
square = lambda x: x ** 2
print(square(3))  # Outputs: 9

add = lambda a, b: a + b
print(add(2, 5))  # Outputs: 7
```

---

## **Higher-Order Functions**

Functions can be passed as arguments to other functions.

#### Example:
```python
def double(x):
    return x * 2

def apply_function(func, value):
    return func(value)

print(apply_function(double, 5))  # Outputs: 10
```

---

## **Recursion**

Functions can call themselves to solve problems recursively.

#### Example:
```python
def factorial(n):
    if n == 0:
        return 1
    return n * factorial(n - 1)

print(factorial(5))  # Outputs: 120
```

---

## **Scopes and `global` Keyword**

Variables inside functions have a **local scope** unless declared global.

#### Example:
```python
x = 10  # Global scope

def modify_global_var():
    global x
    x = 20

modify_global_var()
print(x)  # Outputs: 20
```

---

## **Docstrings**

You can add documentation to your functions using triple quotes.

#### Example:
```python
def greet(name):
    """
    Greets a person with the provided name.
    
    Args:
        name (str): The name of the person.

    Returns:
        str: Greeting message.
    """
    return f"Hello, {name}!"

print(greet.__doc__)
```

---

Python functions are flexible and powerful, helping you create reusable and maintainable code for any scale of application. 😊