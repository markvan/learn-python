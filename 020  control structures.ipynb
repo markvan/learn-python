{
 "cells": [
  {
   "metadata": {},
   "cell_type": "markdown",
   "source": "### <span style=\"color:#CA762B\">if</span>",
   "id": "3df0e09685971fa2"
  },
  {
   "metadata": {},
   "cell_type": "code",
   "outputs": [],
   "execution_count": null,
   "source": "x = 10\nif x > 5:\n    print(\"x is greater than 5\")",
   "id": "5a5f870751ef1a94"
  },
  {
   "metadata": {},
   "cell_type": "markdown",
   "source": "### <span style=\"color:#CA762B\">elif</span>",
   "id": "80639ce3fab04c1e"
  },
  {
   "metadata": {},
   "cell_type": "code",
   "outputs": [],
   "execution_count": null,
   "source": "x = 10\nif x > 15:\n    print(\"x is greater than 15\")\nelif x > 5:\n    print(\"x is greater than 5 but less than or equal to 15\")",
   "id": "d340bccc480ea71a"
  },
  {
   "metadata": {},
   "cell_type": "markdown",
   "source": "### <span style=\"color:#CA762B\">else</span>",
   "id": "fea0c8b5a93f683c"
  },
  {
   "metadata": {},
   "cell_type": "code",
   "outputs": [],
   "execution_count": null,
   "source": "x = 2\nif x > 5:\n    print(\"x is greater than 5\")\nelse:\n    print(\"x is 5 or less\")",
   "id": "7353b43c3970ad17"
  },
  {
   "metadata": {},
   "cell_type": "markdown",
   "source": [
    "### <span style=\"color:#CA762B\">for</span>\n",
    "\n",
    "* range(5) -> 0, 1, 2, 3, 4\n",
    "* range(2,5) -> 2,3,4\n",
    "* range(0,5,2) -> 0,2,4\n",
    "* can use to prepopulate a list list(range(5))"
   ],
   "id": "fc2ab12404b8c112"
  },
  {
   "metadata": {
    "ExecuteTime": {
     "end_time": "2025-02-15T10:10:57.037605Z",
     "start_time": "2025-02-15T10:10:57.031529Z"
    }
   },
   "cell_type": "code",
   "source": [
    "for i in ('a', 333):\n",
    "    print(f\"item {i}\")\n",
    "\n",
    "[print(f\"iteration {i}\") for i in range(2)]"
   ],
   "id": "49abc81ad80ae85e",
   "outputs": [
    {
     "name": "stdout",
     "output_type": "stream",
     "text": [
      "item a\n",
      "item 333\n",
      "iteration 0\n",
      "iteration 1\n"
     ]
    },
    {
     "data": {
      "text/plain": [
       "[None, None]"
      ]
     },
     "execution_count": 9,
     "metadata": {},
     "output_type": "execute_result"
    }
   ],
   "execution_count": 9
  },
  {
   "metadata": {
    "ExecuteTime": {
     "end_time": "2025-02-15T10:15:07.709293Z",
     "start_time": "2025-02-15T10:15:07.705545Z"
    }
   },
   "cell_type": "code",
   "source": [
    "#works for sets, tuples, lists\n",
    "my_list = {'a', 'b', 'c'}\n",
    "for index, value in enumerate(my_list):\n",
    "    print(f\"index: {index}, value: {value}\")"
   ],
   "id": "e3c8bf43a302f36b",
   "outputs": [
    {
     "name": "stdout",
     "output_type": "stream",
     "text": [
      "index: 0, value: a\n",
      "index: 1, value: b\n",
      "index: 2, value: c\n"
     ]
    }
   ],
   "execution_count": 10
  },
  {
   "metadata": {},
   "cell_type": "markdown",
   "source": [
    "Dont forget \n",
    "'''\n",
    "zip itertools.count()\n",
    "'''"
   ],
   "id": "1a0e17b44fe5ee26"
  },
  {
   "metadata": {},
   "cell_type": "markdown",
   "source": "### <span style=\"color:#CA762B\">while</span>",
   "id": "24113d0cf223deca"
  },
  {
   "metadata": {},
   "cell_type": "code",
   "outputs": [],
   "execution_count": null,
   "source": [
    "x = 0\n",
    "while x < 5:\n",
    "    print(x)\n",
    "    x += 1\n",
    "\n",
    "count = 0\n",
    "while count < 3:\n",
    "    print(count)\n",
    "    count += 1\n",
    "else:\n",
    "    print(\"Loop finished!\")  # Executes after the loop ends normally"
   ],
   "id": "728ee75105a8a6e"
  },
  {
   "metadata": {},
   "cell_type": "markdown",
   "source": "### <span style=\"color:#CA762B\">break</span>",
   "id": "71562357503b9b25"
  },
  {
   "metadata": {},
   "cell_type": "code",
   "outputs": [],
   "execution_count": null,
   "source": "for i in range(10):\n    if i == 5:\n        break\n    print(i)",
   "id": "23cfe782d593a58b"
  },
  {
   "metadata": {},
   "cell_type": "markdown",
   "source": "### <span style=\"color:#CA762B\">continue</span>",
   "id": "2dc225de72d4c3bf"
  },
  {
   "metadata": {},
   "cell_type": "code",
   "outputs": [],
   "execution_count": null,
   "source": "for i in range(5):\n    if i == 2:\n        continue\n    print(i)",
   "id": "68e463f0690a1e83"
  },
  {
   "metadata": {},
   "cell_type": "markdown",
   "source": "### <span style=\"color:#CA762B\">pass</span>",
   "id": "7e185b469bb42c37"
  },
  {
   "metadata": {},
   "cell_type": "code",
   "outputs": [],
   "execution_count": null,
   "source": "for i in range(5):\n    if i < 2:\n        pass  # Placeholder, does nothing\n    else:\n        print(i)",
   "id": "f1ce8967414f0fa0"
  },
  {
   "metadata": {},
   "cell_type": "markdown",
   "source": "### <span style=\"color:#CA762B\">try</span>",
   "id": "cb8e008858e82d41"
  },
  {
   "metadata": {},
   "cell_type": "code",
   "outputs": [],
   "execution_count": null,
   "source": "try:\n    result = 10 / 0\nexcept ZeroDivisionError:\n    print(\"You can't divide by zero!\")",
   "id": "f4a5e049733c8079"
  },
  {
   "metadata": {},
   "cell_type": "markdown",
   "source": "### <span style=\"color:#CA762B\">raise</span>",
   "id": "f0b5516feefd5ace"
  },
  {
   "metadata": {},
   "cell_type": "code",
   "outputs": [],
   "execution_count": null,
   "source": "def check_positive(x):\n    if x < 0:\n        raise ValueError(\"Only positive values are allowed.\")\n    return x\n\ncheck_positive(-1)",
   "id": "ba46e27b2df8d92c"
  }
 ],
 "metadata": {
  "kernelspec": {
   "display_name": "Python 3",
   "language": "python",
   "name": "python3"
  },
  "language_info": {
   "codemirror_mode": {
    "name": "ipython",
    "version": 2
   },
   "file_extension": ".py",
   "mimetype": "text/x-python",
   "name": "python",
   "nbconvert_exporter": "python",
   "pygments_lexer": "ipython2",
   "version": "2.7.6"
  }
 },
 "nbformat": 4,
 "nbformat_minor": 5
}
