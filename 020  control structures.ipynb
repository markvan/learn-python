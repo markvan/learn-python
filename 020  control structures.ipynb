{
 "cells": [
  {
   "metadata": {},
   "cell_type": "markdown",
   "source": "### <span style=\"color:#CA762B\">if</span>",
   "id": "3df0e09685971fa2"
  },
  {
   "metadata": {},
   "cell_type": "code",
   "source": "x = 10\nif x > 5:\n    print(\"x is greater than 5\")",
   "id": "5a5f870751ef1a94",
   "outputs": [],
   "execution_count": null
  },
  {
   "metadata": {},
   "cell_type": "markdown",
   "source": "### <span style=\"color:#CA762B\">elif</span>",
   "id": "80639ce3fab04c1e"
  },
  {
   "metadata": {},
   "cell_type": "code",
   "source": [
    "x = 10\n",
    "if x > 15:\n",
    "    print(\"x is greater than 15\")\n",
    "elif x > 5: \n",
    "    print(\"x is greater than 5 and less than or equal to 15\")"
   ],
   "id": "d340bccc480ea71a",
   "outputs": [],
   "execution_count": null
  },
  {
   "metadata": {},
   "cell_type": "markdown",
   "source": "### <span style=\"color:#CA762B\">else</span>",
   "id": "fea0c8b5a93f683c"
  },
  {
   "metadata": {},
   "cell_type": "code",
   "source": "x = 2\nif x > 5:\n    print(\"x is greater than 5\")\nelse:\n    print(\"x is 5 or less\")",
   "id": "7353b43c3970ad17",
   "outputs": [],
   "execution_count": null
  },
  {
   "metadata": {},
   "cell_type": "markdown",
   "source": [
    "### <span style=\"color:#CA762B\">for</span>\n",
    "\n",
    "* range(5) -> 0, 1, 2, 3, 4\n",
    "* range(2,5) -> 2,3,4\n",
    "* range(0,5,2) -> 0,2,4\n",
    "* can use to prepopulate a list list(range(5))"
   ],
   "id": "fc2ab12404b8c112"
  },
  {
   "metadata": {},
   "cell_type": "code",
   "source": [
    "for i in ('a', 333):\n",
    "    print(f\"item {i}\")\n",
    "\n",
    "[print(f\"iteration {i}\") for i in range(2)]"
   ],
   "id": "49abc81ad80ae85e",
   "outputs": [],
   "execution_count": null
  },
  {
   "metadata": {},
   "cell_type": "code",
   "source": [
    "#works for sets, tuples, lists\n",
    "my_list = {'a', 'b', 'c'}\n",
    "for index, value in enumerate(my_list):\n",
    "    print(f\"index: {index}, value: {value}\")"
   ],
   "id": "e3c8bf43a302f36b",
   "outputs": [],
   "execution_count": null
  },
  {
   "metadata": {},
   "cell_type": "markdown",
   "source": [
    "Dont forget \n",
    "'''\n",
    "zip itertools.count()\n",
    "'''"
   ],
   "id": "1a0e17b44fe5ee26"
  },
  {
   "metadata": {},
   "cell_type": "markdown",
   "source": "### <span style=\"color:#CA762B\">while</span>",
   "id": "24113d0cf223deca"
  },
  {
   "metadata": {},
   "cell_type": "code",
   "source": [
    "x = 0\n",
    "while x < 5:\n",
    "    print(x)\n",
    "    x += 1\n",
    "\n",
    "count = 0\n",
    "while count < 3:\n",
    "    print(count)\n",
    "    count += 1\n",
    "else:\n",
    "    print(\"Loop finished!\")  # Executes after the loop ends normally"
   ],
   "id": "728ee75105a8a6e",
   "outputs": [],
   "execution_count": null
  },
  {
   "metadata": {},
   "cell_type": "markdown",
   "source": "### <span style=\"color:#CA762B\">break</span>",
   "id": "71562357503b9b25"
  },
  {
   "metadata": {},
   "cell_type": "code",
   "source": "for i in range(10):\n    if i == 5:\n        break\n    print(i)",
   "id": "23cfe782d593a58b",
   "outputs": [],
   "execution_count": null
  },
  {
   "metadata": {},
   "cell_type": "markdown",
   "source": "### <span style=\"color:#CA762B\">continue</span>",
   "id": "2dc225de72d4c3bf"
  },
  {
   "metadata": {},
   "cell_type": "code",
   "source": "for i in range(5):\n    if i == 2:\n        continue\n    print(i)",
   "id": "68e463f0690a1e83",
   "outputs": [],
   "execution_count": null
  },
  {
   "metadata": {},
   "cell_type": "markdown",
   "source": "### <span style=\"color:#CA762B\">pass</span>",
   "id": "7e185b469bb42c37"
  },
  {
   "metadata": {},
   "cell_type": "code",
   "source": "for i in range(5):\n    if i < 2:\n        pass  # Placeholder, does nothing\n    else:\n        print(i)",
   "id": "f1ce8967414f0fa0",
   "outputs": [],
   "execution_count": null
  },
  {
   "metadata": {},
   "cell_type": "markdown",
   "source": "### <span style=\"color:#CA762B\">try</span>",
   "id": "cb8e008858e82d41"
  },
  {
   "metadata": {},
   "cell_type": "code",
   "source": "try:\n    result = 10 / 0\nexcept ZeroDivisionError:\n    print(\"You can't divide by zero!\")",
   "id": "f4a5e049733c8079",
   "outputs": [],
   "execution_count": null
  },
  {
   "metadata": {},
   "cell_type": "markdown",
   "source": "### <span style=\"color:#CA762B\">raise</span>",
   "id": "f0b5516feefd5ace"
  },
  {
   "metadata": {},
   "cell_type": "code",
   "source": "def check_positive(x):\n    if x < 0:\n        raise ValueError(\"Only positive values are allowed.\")\n    return x\n\ncheck_positive(-1)",
   "id": "ba46e27b2df8d92c",
   "outputs": [],
   "execution_count": null
  }
 ],
 "metadata": {
  "kernelspec": {
   "display_name": "Python 3",
   "language": "python",
   "name": "python3"
  },
  "language_info": {
   "codemirror_mode": {
    "name": "ipython",
    "version": 2
   },
   "file_extension": ".py",
   "mimetype": "text/x-python",
   "name": "python",
   "nbconvert_exporter": "python",
   "pygments_lexer": "ipython2",
   "version": "2.7.6"
  }
 },
 "nbformat": 4,
 "nbformat_minor": 5
}
