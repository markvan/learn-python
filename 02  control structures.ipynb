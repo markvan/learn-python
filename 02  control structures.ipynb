{
 "cells": [
  {
   "metadata": {},
   "cell_type": "markdown",
   "source": "### <span style=\"color:#CA762B\">if</span>",
   "id": "3df0e09685971fa2"
  },
  {
   "metadata": {},
   "cell_type": "code",
   "outputs": [],
   "execution_count": null,
   "source": "x = 10\nif x > 5:\n    print(\"x is greater than 5\")",
   "id": "5a5f870751ef1a94"
  },
  {
   "metadata": {},
   "cell_type": "markdown",
   "source": "### <span style=\"color:#CA762B\">elif</span>",
   "id": "80639ce3fab04c1e"
  },
  {
   "metadata": {},
   "cell_type": "code",
   "outputs": [],
   "execution_count": null,
   "source": "x = 10\nif x > 15:\n    print(\"x is greater than 15\")\nelif x > 5:\n    print(\"x is greater than 5 but less than or equal to 15\")",
   "id": "d340bccc480ea71a"
  },
  {
   "metadata": {},
   "cell_type": "markdown",
   "source": "### <span style=\"color:#CA762B\">else</span>",
   "id": "fea0c8b5a93f683c"
  },
  {
   "metadata": {},
   "cell_type": "code",
   "outputs": [],
   "execution_count": null,
   "source": "x = 2\nif x > 5:\n    print(\"x is greater than 5\")\nelse:\n    print(\"x is 5 or less\")",
   "id": "7353b43c3970ad17"
  },
  {
   "metadata": {},
   "cell_type": "markdown",
   "source": "### <span style=\"color:#CA762B\">for</span>",
   "id": "fc2ab12404b8c112"
  },
  {
   "metadata": {},
   "cell_type": "code",
   "outputs": [],
   "execution_count": null,
   "source": "for i in range(5):\n    print(f\"Iteration {i}\")",
   "id": "49abc81ad80ae85e"
  },
  {
   "metadata": {},
   "cell_type": "markdown",
   "source": "### <span style=\"color:#CA762B\">while</span>",
   "id": "24113d0cf223deca"
  },
  {
   "metadata": {},
   "cell_type": "code",
   "outputs": [],
   "execution_count": null,
   "source": "x = 0\nwhile x < 5:\n    print(x)\n    x += 1",
   "id": "728ee75105a8a6e"
  },
  {
   "metadata": {},
   "cell_type": "markdown",
   "source": "### <span style=\"color:#CA762B\">break</span>",
   "id": "71562357503b9b25"
  },
  {
   "metadata": {},
   "cell_type": "code",
   "outputs": [],
   "execution_count": null,
   "source": "for i in range(10):\n    if i == 5:\n        break\n    print(i)",
   "id": "23cfe782d593a58b"
  },
  {
   "metadata": {},
   "cell_type": "markdown",
   "source": "### <span style=\"color:#CA762B\">continue</span>",
   "id": "2dc225de72d4c3bf"
  },
  {
   "metadata": {},
   "cell_type": "code",
   "outputs": [],
   "execution_count": null,
   "source": "for i in range(5):\n    if i == 2:\n        continue\n    print(i)",
   "id": "68e463f0690a1e83"
  },
  {
   "metadata": {},
   "cell_type": "markdown",
   "source": "### <span style=\"color:#CA762B\">pass</span>",
   "id": "7e185b469bb42c37"
  },
  {
   "metadata": {},
   "cell_type": "code",
   "outputs": [],
   "execution_count": null,
   "source": "for i in range(5):\n    if i < 2:\n        pass  # Placeholder, does nothing\n    else:\n        print(i)",
   "id": "f1ce8967414f0fa0"
  },
  {
   "metadata": {},
   "cell_type": "markdown",
   "source": "### <span style=\"color:#CA762B\">try</span>",
   "id": "cb8e008858e82d41"
  },
  {
   "metadata": {},
   "cell_type": "code",
   "outputs": [],
   "execution_count": null,
   "source": "try:\n    result = 10 / 0\nexcept ZeroDivisionError:\n    print(\"You can't divide by zero!\")",
   "id": "f4a5e049733c8079"
  },
  {
   "metadata": {},
   "cell_type": "markdown",
   "source": "### <span style=\"color:#CA762B\">raise</span>",
   "id": "f0b5516feefd5ace"
  },
  {
   "metadata": {},
   "cell_type": "code",
   "outputs": [],
   "execution_count": null,
   "source": "def check_positive(x):\n    if x < 0:\n        raise ValueError(\"Only positive values are allowed.\")\n    return x\n\ncheck_positive(-1)",
   "id": "ba46e27b2df8d92c"
  }
 ],
 "metadata": {
  "kernelspec": {
   "display_name": "Python 3",
   "language": "python",
   "name": "python3"
  },
  "language_info": {
   "codemirror_mode": {
    "name": "ipython",
    "version": 2
   },
   "file_extension": ".py",
   "mimetype": "text/x-python",
   "name": "python",
   "nbconvert_exporter": "python",
   "pygments_lexer": "ipython2",
   "version": "2.7.6"
  }
 },
 "nbformat": 4,
 "nbformat_minor": 5
}
