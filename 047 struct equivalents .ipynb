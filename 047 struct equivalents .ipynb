{
 "cells": [
  {
   "cell_type": "markdown",
   "metadata": {},
   "source": [
    "## THERE ARE NO Structures in Python\n",
    "\n",
    "Python, as a high-level and dynamically typed programming language, does not have structures like those found in languages such as C or C++ (e.g., `struct`). However, it achieves the same functionality through other constructs. Python offers several alternatives for creating structured data types:"
   ],
   "id": "72abe21386db5e84"
  },
  {
   "cell_type": "markdown",
   "metadata": {},
   "source": "### 1. Classes\nYou can define a class to simulate the behavior of a structure to group related data with attributes.",
   "id": "beaf2ae216099b99"
  },
  {
   "cell_type": "code",
   "execution_count": null,
   "metadata": {},
   "outputs": [],
   "source": [
    "class Person:\n",
    "    def __init__(self, name, age):\n",
    "        self.name = name\n",
    "        self.age = age\n\n",
    "person = Person(\"John\", 30)\n",
    "print(person.name, person.age)"
   ],
   "id": "630c99be3272388"
  },
  {
   "cell_type": "markdown",
   "metadata": {},
   "source": "### 2. Named Tuples (from collections)\nNamed tuples are immutable and provide named fields for tuples, which can act somewhat like structures.",
   "id": "8611a534ff5a8ca1"
  },
  {
   "cell_type": "code",
   "execution_count": null,
   "metadata": {},
   "outputs": [],
   "source": [
    "from collections import namedtuple\n\n",
    "Person = namedtuple('Person', ['name', 'age'])\n",
    "person = Person(name=\"John\", age=30)\n",
    "print(person.name, person.age)"
   ],
   "id": "cf0bc717bfb7879a"
  },
  {
   "cell_type": "markdown",
   "metadata": {},
   "source": "### 3. Data Classes (Introduced in Python 3.7)\nData classes reduce boilerplate code and work similarly to structs by automatically creating `__init__`, `__repr__`, and other methods.",
   "id": "90eefde31fcb4c5b"
  },
  {
   "cell_type": "code",
   "execution_count": null,
   "metadata": {},
   "outputs": [],
   "source": [
    "from dataclasses import dataclass\n\n",
    "@dataclass\n",
    "class Person:\n",
    "    name: str\n",
    "    age: int\n\n",
    "person = Person(name=\"John\", age=30)\n",
    "print(person.name, person.age)"
   ],
   "id": "d3c2b5c81aae83f2"
  },
  {
   "cell_type": "markdown",
   "metadata": {},
   "source": "### 4. Dictionaries\nYou can use dictionaries to represent key-value pairs for structured data.",
   "id": "8550938131d24672"
  },
  {
   "cell_type": "code",
   "execution_count": null,
   "metadata": {},
   "outputs": [],
   "source": [
    "person = {\"name\": \"John\", \"age\": 30}\n",
    "print(person[\"name\"], person[\"age\"])"
   ],
   "id": "16812ce997de85f2"
  },
  {
   "cell_type": "markdown",
   "metadata": {},
   "source": "### When Should You Use Each?\n- **Classes**: Use them when you need more complex behavior, methods, or the ability to mutate an object's attributes.\n- **Named Tuples**: Use them for lightweight and immutable data structures.\n- **Data Classes**: Great for boilerplate-free, mutable structured data.\n- **Dictionaries**: Quick and simple for unstructured or lightweight tasks, though they lack type checking and may have less readability.\n\nWhile Python doesn’t have a `struct` keyword, it provides multiple approaches to mimic their functionality without compromising flexibility or simplicity. 😊",
   "id": "12930437a1f036a1"
  }
 ],
 "metadata": {
  "kernelspec": {
   "display_name": "Python 3",
   "language": "python",
   "name": "python3"
  },
  "language_info": {
   "codemirror_mode": {
    "name": "ipython",
    "version": 3
   },
   "file_extension": ".py",
   "mimetype": "text/x-python",
   "name": "python",
   "nbconvert_exporter": "python",
   "pygments_lexer": "ipython3",
   "version": "3.9.6"
  }
 },
 "nbformat": 4,
 "nbformat_minor": 5
}
