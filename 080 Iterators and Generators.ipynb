{
 "cells": [
  {
   "metadata": {},
   "cell_type": "code",
   "outputs": [],
   "execution_count": null,
   "source": [
    "### <span style=\"color:#CA762B\">**Iterators and Generators in Python**</span>\n",
    "\n",
    "This notebook covers iterator protocols, generator functions, and techniques for efficient iteration in Python.\n"
   ],
   "id": "fb8e0deee4d0a507"
  },
  {
   "metadata": {},
   "cell_type": "markdown",
   "source": [
    "### <span style=\"color:#CA762B\">**Iterator Protocol**</span>\n",
    "\n",
    "Understanding Python's iterator protocol and how to implement custom iterators.\n"
   ],
   "id": "62eebc54036ae933"
  },
  {
   "metadata": {},
   "cell_type": "code",
   "outputs": [],
   "execution_count": null,
   "source": [
    "# Custom Iterator Example\n",
    "class Fibonacci:\n",
    "    \"\"\"Iterator that generates Fibonacci numbers up to n.\"\"\"\n",
    "    def __init__(self, n):\n",
    "        self.n = n\n",
    "        self.current = 0\n",
    "        self.next_value = 1\n",
    "        self.count = 0\n",
    "    \n",
    "    def __iter__(self):\n",
    "        return self\n",
    "    \n",
    "    def __next__(self):\n",
    "        if self.count >= self.n:\n",
    "            raise StopIteration\n",
    "        \n",
    "        result = self.current\n",
    "        self.current, self.next_value = self.next_value, self.current + self.next_value\n",
    "        self.count += 1\n",
    "        return result\n",
    "\n",
    "# Using the iterator\n",
    "fib = Fibonacci(5)\n",
    "print(\"Fibonacci sequence:\")\n",
    "for num in fib:\n",
    "    print(num, end=\" \")\n",
    "print()\n"
   ],
   "id": "a6819dc0692c9821"
  },
  {
   "metadata": {},
   "cell_type": "markdown",
   "source": [
    "### <span style=\"color:#CA762B\">**Generator Functions**</span>\n",
    "\n",
    "Creating iterators using generator functions with the `yield` keyword.\n"
   ],
   "id": "2fe0392217f71ed3"
  },
  {
   "metadata": {},
   "cell_type": "code",
   "outputs": [],
   "execution_count": null,
   "source": [
    "def fibonacci_gen(n):\n",
    "    \"\"\"Generator function for Fibonacci numbers.\"\"\"\n",
    "    current, next_value = 0, 1\n",
    "    for _ in range(n):\n",
    "        yield current\n",
    "        current, next_value = next_value, current + next_value\n",
    "\n",
    "# Using the generator function\n",
    "print(\"Using generator function:\")\n",
    "for num in fibonacci_gen(5):\n",
    "    print(num, end=\" \")\n",
    "print()\n"
   ],
   "id": "17b19c0045417465"
  },
  {
   "metadata": {},
   "cell_type": "code",
   "outputs": [],
   "execution_count": null,
   "source": [
    "# Generator function with multiple yields\n",
    "def number_generator():\n",
    "    yield 1\n",
    "    yield 2\n",
    "    yield 3\n",
    "    yield from [4, 5, 6]  # yield from iterable\n",
    "\n",
    "print(\"Multiple yields:\")\n",
    "for num in number_generator():\n",
    "    print(num, end=\" \")\n",
    "print()\n"
   ],
   "id": "433816b630500541"
  },
  {
   "metadata": {},
   "cell_type": "markdown",
   "source": [
    "### <span style=\"color:#CA762B\">**Generator Expressions**</span>\n",
    "\n",
    "Using generator expressions for memory-efficient iteration.\n"
   ],
   "id": "959ee534f4eee086"
  },
  {
   "metadata": {},
   "cell_type": "code",
   "outputs": [],
   "execution_count": null,
   "source": [
    "# List comprehension vs Generator expression\n",
    "import sys\n",
    "\n",
    "# List comprehension (creates list in memory)\n",
    "squares_list = [x**2 for x in range(1000)]\n",
    "# Generator expression (generates values on demand)\n",
    "squares_gen = (x**2 for x in range(1000))\n",
    "\n",
    "print(\"Memory comparison:\")\n",
    "print(f\"List size: {sys.getsizeof(squares_list)} bytes\")\n",
    "print(f\"Generator size: {sys.getsizeof(squares_gen)} bytes\")\n"
   ],
   "id": "e01e3cee48a03d9e"
  },
  {
   "metadata": {},
   "cell_type": "code",
   "outputs": [],
   "execution_count": null,
   "source": [
    "# Using generator expressions in functions\n",
    "sum_of_squares = sum(x**2 for x in range(10))\n",
    "max_square = max(x**2 for x in range(10))\n",
    "\n",
    "print(f\"Sum of squares: {sum_of_squares}\")\n",
    "print(f\"Max square: {max_square}\")\n"
   ],
   "id": "f43d062eb8284e3b"
  },
  {
   "metadata": {},
   "cell_type": "markdown",
   "source": [
    "### <span style=\"color:#CA762B\">**yield from Statement**</span>\n",
    "\n",
    "Using `yield from` for subgenerators and delegation.\n"
   ],
   "id": "d4ed308b7aa4b7f4"
  },
  {
   "metadata": {},
   "cell_type": "code",
   "outputs": [],
   "execution_count": null,
   "source": [
    "def subgenerator(n):\n",
    "    for i in range(n):\n",
    "        yield i\n",
    "\n",
    "def delegating_generator(n):\n",
    "    yield \"Starting\"\n",
    "    yield from subgenerator(n)\n",
    "    yield \"Ending\"\n",
    "\n",
    "print(\"Delegating generator output:\")\n",
    "for item in delegating_generator(3):\n",
    "    print(item)\n"
   ],
   "id": "9a98cb5735e29322"
  },
  {
   "metadata": {},
   "cell_type": "markdown",
   "source": [
    "### <span style=\"color:#CA762B\">**Infinite Generators**</span>\n",
    "\n",
    "Creating and working with infinite sequences.\n"
   ],
   "id": "48b2380d66f3f55"
  },
  {
   "metadata": {},
   "cell_type": "code",
   "outputs": [],
   "execution_count": null,
   "source": [
    "def infinite_counter(start=0):\n",
    "    while True:\n",
    "        yield start\n",
    "        start += 1\n",
    "\n",
    "# Using itertools to limit infinite generator\n",
    "from itertools import islice\n",
    "\n",
    "# Take first 5 numbers\n",
    "print(\"First 5 numbers:\")\n",
    "for num in islice(infinite_counter(), 5):\n",
    "    print(num, end=\" \")\n",
    "print()\n"
   ],
   "id": "14f8a77140116314"
  },
  {
   "metadata": {},
   "cell_type": "markdown",
   "source": [
    "### <span style=\"color:#CA762B\">**Generator Pipeline**</span>\n",
    "\n",
    "Building data processing pipelines with generators.\n"
   ],
   "id": "bede13d2de13150a"
  },
  {
   "metadata": {},
   "cell_type": "code",
   "outputs": [],
   "execution_count": null,
   "source": [
    "def generate_numbers():\n",
    "    for i in range(1, 11):\n",
    "        yield i\n",
    "\n",
    "def square_numbers(numbers):\n",
    "    for n in numbers:\n",
    "        yield n ** 2\n",
    "\n",
    "def filter_even(numbers):\n",
    "    for n in numbers:\n",
    "        if n % 2 == 0:\n",
    "            yield n\n",
    "\n",
    "# Creating a pipeline\n",
    "numbers = generate_numbers()\n",
    "squared = square_numbers(numbers)\n",
    "even_squares = filter_even(squared)\n",
    "\n",
    "print(\"Even squares from pipeline:\")\n",
    "for num in even_squares:\n",
    "    print(num, end=\" \")\n",
    "print()\n"
   ],
   "id": "9910d7d34d85568"
  },
  {
   "metadata": {},
   "cell_type": "markdown",
   "source": [
    "### <span style=\"color:#CA762B\">**Memory Efficiency**</span>\n",
    "\n",
    "Demonstrating memory efficiency with generators vs lists.\n"
   ],
   "id": "4b0cf3daaff60454"
  },
  {
   "metadata": {},
   "cell_type": "code",
   "outputs": [],
   "execution_count": null,
   "source": [
    "import memory_profiler\n",
    "import time\n",
    "\n",
    "def generate_large_dataset(n):\n",
    "    for i in range(n):\n",
    "        yield i ** 2\n",
    "\n",
    "def process_with_list(n):\n",
    "    # Store all data in memory\n",
    "    data = [i ** 2 for i in range(n)]\n",
    "    return sum(data)\n",
    "\n",
    "def process_with_generator(n):\n",
    "    # Process data on the fly\n",
    "    data = generate_large_dataset(n)\n",
    "    return sum(data)\n",
    "\n",
    "# Compare processing time and memory usage\n",
    "n = 1000000\n",
    "print(\"Processing large dataset...\")\n",
    "\n",
    "start = time.time()\n",
    "result_list = process_with_list(n)\n",
    "print(f\"List processing time: {time.time() - start:.2f} seconds\")\n",
    "\n",
    "start = time.time()\n",
    "result_gen = process_with_generator(n)\n",
    "print(f\"Generator processing time: {time.time() - start:.2f} seconds\")\n"
   ],
   "id": "92ea4bc239e34c18"
  },
  {
   "metadata": {},
   "cell_type": "markdown",
   "source": [
    "### <span style=\"color:#CA762B\">**Practical Applications**</span>\n",
    "\n",
    "Real-world examples of generators and iterators.\n"
   ],
   "id": "977ae00ae21600eb"
  },
  {
   "metadata": {},
   "cell_type": "code",
   "outputs": [],
   "execution_count": null,
   "source": [
    "class LogReader:\n",
    "    def __init__(self, log_lines):\n",
    "        self.log_lines = log_lines\n",
    "    \n",
    "    def __iter__(self):\n",
    "        return self\n",
    "    \n",
    "    def __next__(self):\n",
    "        if not self.log_lines:\n",
    "            raise StopIteration\n",
    "        return self.log_lines.pop(0)\n",
    "\n",
    "def parse_log_entry(entry):\n",
    "    # Simulate parsing log entry\n",
    "    return f\"Parsed: {entry}\"\n",
    "\n",
    "def filter_errors(entries):\n",
    "    for entry in entries:\n",
    "        if \"ERROR\" in entry:\n",
    "            yield entry\n",
    "\n",
    "# Example usage\n",
    "sample_logs = [\n",
    "    \"INFO: System started\",\n",
    "    \"ERROR: Connection failed\",\n",
    "    \"INFO: Processing data\",\n",
    "    \"ERROR: Database timeout\"\n",
    "]\n",
    "\n",
    "# Create processing pipeline\n",
    "log_reader = LogReader(sample_logs)\n",
    "error_entries = filter_errors(log_reader)\n",
    "parsed_errors = (parse_log_entry(entry) for entry in error_entries)\n",
    "\n",
    "print(\"Processing log entries:\")\n",
    "for parsed_entry in parsed_errors:\n",
    "    print(parsed_entry)"
   ],
   "id": "9b32d952867c32af"
  }
 ],
 "metadata": {},
 "nbformat": 5,
 "nbformat_minor": 9
}
