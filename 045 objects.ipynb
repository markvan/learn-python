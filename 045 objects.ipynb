{
 "cells": [
  {
   "cell_type": "markdown",
   "metadata": {},
   "source": "### <span style=\"color:#CA762B\">**Objects Are Instances of Classes**</span>\nAn object is a specific instance created from a class (blueprint). Each object has its own unique **data** stored in attributes (state) but shares the same **class-level behavior** (methods)."
  },
  {
   "cell_type": "code",
   "execution_count": null,
   "metadata": {},
   "outputs": [],
   "source": [
    "class Car:\n",
    "    def __init__(self, brand, color):\n",
    "        self.brand = brand\n",
    "        self.color = color\n\n",
    "# Creating objects (instances)\n",
    "car1 = Car(\"Toyota\", \"Red\")\n",
    "car2 = Car(\"Honda\", \"Blue\")\n\n",
    "# Accessing attributes\n",
    "print(car1.brand)  # Output: Toyota\n",
    "print(car2.color)  # Output: Blue"
   ]
  },
  {
   "cell_type": "markdown",
   "metadata": {},
   "source": "### <span style=\"color:#CA762B\">**Objects Are Mutable**</span>\nBy default, attributes inside an object are mutable—meaning they can be modified after the object is created."
  },
  {
   "cell_type": "code",
   "execution_count": null,
   "metadata": {},
   "outputs": [],
   "source": [
    "class Book:\n",
    "    def __init__(self, title):\n",
    "        self.title = title\n\n",
    "book = Book(\"Original Title\")\n",
    "print(book.title)  # Output: Original Title\n",
    "book.title = \"Updated Title\"  # Modifying the attribute\n",
    "print(book.title)  # Output: Updated Title"
   ]
  },
  {
   "cell_type": "markdown",
   "metadata": {},
   "source": "### <span style=\"color:#CA762B\">**Objects Are Dynamic**</span>\nIn Python, you can dynamically add new attributes to an object even if they are not initially defined in the class."
  },
  {
   "cell_type": "code",
   "execution_count": null,
   "metadata": {},
   "outputs": [],
   "source": [
    "class Dog:\n",
    "    def __init__(self, name):\n",
    "        self.name = name\n\n",
    "dog = Dog(\"Buddy\")\n",
    "dog.age = 3  # Adding a new attribute dynamically\n",
    "print(dog.name)  # Output: Buddy\n",
    "print(dog.age)   # Output: 3"
   ]
  },
  {
   "cell_type": "markdown",
   "metadata": {},
   "source": "### <span style=\"color:#CA762B\">**`__dict__` Attribute**</span>\nEvery object has a built-in `__dict__` attribute that stores the object's attributes in a dictionary format."
  },
  {
   "cell_type": "code",
   "execution_count": null,
   "metadata": {},
   "outputs": [],
   "source": [
    "class Person:\n",
    "    def __init__(self, name, age):\n",
    "        self.name = name\n",
    "        self.age = age\n\n",
    "p = Person(\"Alice\", 30)\n",
    "print(p.__dict__)  # Output: {'name': 'Alice', 'age': 30}"
   ]
  },
  {
   "cell_type": "markdown",
   "metadata": {},
   "source": "### <span style=\"color:#CA762B\">**Identity, Type, and Value**</span>\nEvery object has the following properties:\n- **Identity**: Use `id()` to get the unique memory location.\n- **Type**: Use `type()` to get the object's class.\n- **Value**: The data stored inside the object."
  },
  {
   "cell_type": "code",
   "execution_count": null,
   "metadata": {},
   "outputs": [],
   "source": [
    "x = [1, 2, 3]\n",
    "print(id(x))       # Unique memory location\n",
    "print(type(x))     # Output: <class 'list'>\n",
    "print(x)           # Output: [1, 2, 3]"
   ]
  },
  {
   "cell_type": "markdown",
   "metadata": {},
   "source": "### <span style=\"color:#CA762B\">**Objects Are Passed by Reference**</span>\nObjects are passed by reference in Python, meaning that modifying an object inside a function will affect the original object."
  },
  {
   "cell_type": "code",
   "execution_count": null,
   "metadata": {},
   "outputs": [],
   "source": [
    "class Box:\n",
    "    def __init__(self, content):\n",
    "        self.content = content\n\n",
    "def modify_box(box):\n",
    "    box.content.append(\"new item\")\n\n",
    "my_box = Box([\"item1\", \"item2\"])\n",
    "modify_box(my_box)  # Modifies the original object\n",
    "print(my_box.content)  # Output: ['item1', 'item2', 'new item']"
   ]
  },
  {
   "cell_type": "markdown",
   "metadata": {},
   "source": "### <span style=\"color:#CA762B\">**Comparison of Objects**</span>\nObjects are compared using:\n- `==`: Compares **values**.\n- `is`: Compares **identities** (memory addresses)."
  },
  {
   "cell_type": "code",
   "execution_count": null,
   "metadata": {},
   "outputs": [],
   "source": [
    "x = [1, 2, 3]\n",
    "y = [1, 2, 3]\n",
    "print(x == y)  # True (values are equal)\n",
    "print(x is y)  # False (different memory locations)"
   ]
  },
  {
   "cell_type": "markdown",
   "metadata": {},
   "source": "### <span style=\"color:#CA762B\">**Restricting Attributes with `__slots__`**</span>\nUse `__slots__` to restrict the attributes that an object can have. This reduces memory usage."
  },
  {
   "cell_type": "code",
   "execution_count": null,
   "metadata": {},
   "outputs": [],
   "source": [
    "class FixedClass:\n",
    "    __slots__ = ['name', 'age']  # Only these attributes are allowed\n\n",
    "obj = FixedClass()\n",
    "obj.name = \"Alice\"  # Allowed\n",
    "obj.age = 25         # Allowed\n",
    "# obj.height = 160   # Raises AttributeError"
   ]
  },
  {
   "cell_type": "markdown",
   "metadata": {},
   "source": "### <span style=\"color:#CA762B\">**Shallow vs. Deep Copying**</span>\nUse the `copy` module to create shallow (`copy.copy`) or deep (`copy.deepcopy`) copies of objects."
  },
  {
   "cell_type": "code",
   "execution_count": null,
   "metadata": {},
   "outputs": [],
   "source": [
    "import copy\n\n",
    "x = [[1, 2], [3, 4]]\n",
    "y = copy.copy(x)        # Shallow copy\n",
    "z = copy.deepcopy(x)    # Deep copy\n\n",
    "x[0][0] = 99\n",
    "print(x)  # [[99, 2], [3, 4]]\n",
    "print(y)  # [[99, 2], [3, 4]] (affected by changes)\n",
    "print(z)  # [[1, 2], [3, 4]]  (unaffected by changes)"
   ]
  },
  {
   "cell_type": "markdown",
   "metadata": {},
   "source": "### <span style=\"color:#CA762B\">**Garbage Collection**</span>\nPython automatically manages memory. When no object references exist, it becomes eligible for garbage collection."
  },
  {
   "cell_type": "code",
   "execution_count": null,
   "metadata": {},
   "outputs": [],
   "source": [
    "x = [1, 2, 3]\n",
    "y = x  # Reference to the same object\n\n",
    "del x  # Deletes the reference, but 'y' still exists\n",
    "print(y)  # Output: [1, 2, 3]\n\n",
    "y = None  # No references, object is garbage collected"
   ]
  },
  {
   "cell_type": "markdown",
   "metadata": {},
   "source": "### <span style=\"color:#CA762B\">**Custom Behavior for Objects**</span>\nYou can define special methods (`__str__`, `__len__`, etc.) to customize the object's behavior."
  },
  {
   "cell_type": "code",
   "execution_count": null,
   "metadata": {},
   "outputs": [],
   "source": [
    "class Counter:\n",
    "    def __init__(self, count=0):\n",
    "        self.count = count\n\n",
    "    def __call__(self):\n",
    "        self.count += 1\n",
    "        return self.count\n\n",
    "counter = Counter()\n",
    "print(counter())  # Output: 1\n",
    "print(counter())  # Output: 2"
   ]
  }
 ]
}