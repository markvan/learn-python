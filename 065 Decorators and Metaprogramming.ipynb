{
 "cells": [
  {
   "metadata": {},
   "cell_type": "code",
   "outputs": [],
   "execution_count": null,
   "source": [
    "### <span style=\"color:#CA762B\">**Decorators and Metaprogramming in Python**</span>\n",
    "\n",
    "This notebook covers Python decorators and basic metaprogramming concepts, powerful features for modifying or enhancing functions and classes.\n"
   ],
   "id": "514ea58b425513af"
  },
  {
   "metadata": {},
   "cell_type": "markdown",
   "source": [
    "### <span style=\"color:#CA762B\">**Function Decorators**</span>\n",
    "\n",
    "Decorators are a way to modify or enhance functions without directly changing their source code.\n"
   ],
   "id": "8dbf05f87e6d939f"
  },
  {
   "metadata": {},
   "cell_type": "code",
   "outputs": [],
   "execution_count": null,
   "source": [
    "# Basic function decorator\n",
    "def uppercase_decorator(func):\n",
    "    def wrapper():\n",
    "        original_result = func()\n",
    "        return original_result.upper()\n",
    "    return wrapper\n",
    "\n",
    "@uppercase_decorator\n",
    "def greet():\n",
    "    return \"hello, world\"\n",
    "\n",
    "print(greet())  # Output: HELLO, WORLD\n"
   ],
   "id": "e28eea74c3d3c975"
  },
  {
   "metadata": {},
   "cell_type": "code",
   "outputs": [],
   "execution_count": null,
   "source": [
    "# Decorator with arguments\n",
    "def repeat(times):\n",
    "    def decorator(func):\n",
    "        def wrapper(*args, **kwargs):\n",
    "            for _ in range(times):\n",
    "                result = func(*args, **kwargs)\n",
    "            return result\n",
    "        return wrapper\n",
    "    return decorator\n",
    "\n",
    "@repeat(times=3)\n",
    "def print_message(message):\n",
    "    print(message)\n",
    "    return \"Done\"\n",
    "\n",
    "print_message(\"Hello\")  # Prints \"Hello\" three times\n"
   ],
   "id": "6975155aa43aff6d"
  },
  {
   "metadata": {},
   "cell_type": "markdown",
   "source": [
    "### <span style=\"color:#CA762B\">**Decorators with Arguments**</span>\n",
    "\n",
    "Creating more flexible decorators that can accept arguments.\n"
   ],
   "id": "2472a97865e99e22"
  },
  {
   "metadata": {},
   "cell_type": "code",
   "outputs": [],
   "execution_count": null,
   "source": [
    "from functools import wraps\n",
    "import time\n",
    "\n",
    "def measure_time(arg=None):\n",
    "    def decorator(func):\n",
    "        @wraps(func)  # Preserves function metadata\n",
    "        def wrapper(*args, **kwargs):\n",
    "            start = time.time()\n",
    "            result = func(*args, **kwargs)\n",
    "            end = time.time()\n",
    "            print(f\"{func.__name__} took {end - start:.2f} seconds\")\n",
    "            return result\n",
    "        return wrapper\n",
    "    \n",
    "    # Handle both @measure_time and @measure_time()\n",
    "    if callable(arg):\n",
    "        return decorator(arg)\n",
    "    return decorator\n",
    "\n",
    "@measure_time\n",
    "def slow_function():\n",
    "    time.sleep(1)\n",
    "    return \"Done\"\n",
    "\n",
    "slow_function()\n"
   ],
   "id": "2d3fc2ee898fce51"
  },
  {
   "metadata": {},
   "cell_type": "markdown",
   "source": [
    "### <span style=\"color:#CA762B\">**Class Decorators**</span>\n",
    "\n",
    "Decorators can also be applied to classes to modify their behavior.\n"
   ],
   "id": "4750f89cf1c7e7f2"
  },
  {
   "metadata": {},
   "cell_type": "code",
   "outputs": [],
   "execution_count": null,
   "source": [
    "def singleton(cls):\n",
    "    instances = {}\n",
    "    def get_instance(*args, **kwargs):\n",
    "        if cls not in instances:\n",
    "            instances[cls] = cls(*args, **kwargs)\n",
    "        return instances[cls]\n",
    "    return get_instance\n",
    "\n",
    "@singleton\n",
    "class Configuration:\n",
    "    def __init__(self):\n",
    "        self.settings = {}\n",
    "    \n",
    "    def set_setting(self, key, value):\n",
    "        self.settings[key] = value\n",
    "\n",
    "# Both variables reference the same instance\n",
    "config1 = Configuration()\n",
    "config2 = Configuration()\n",
    "print(config1 is config2)  # Output: True\n"
   ],
   "id": "c5f8f917b5f62482"
  },
  {
   "metadata": {},
   "cell_type": "markdown",
   "source": [
    "### <span style=\"color:#CA762B\">**Decorator Classes**</span>\n",
    "\n",
    "Creating decorators using classes instead of functions.\n"
   ],
   "id": "af1d23ba7445798d"
  },
  {
   "metadata": {},
   "cell_type": "code",
   "outputs": [],
   "execution_count": null,
   "source": [
    "class CountCalls:\n",
    "    def __init__(self, func):\n",
    "        self.func = func\n",
    "        self.count = 0\n",
    "    \n",
    "    def __call__(self, *args, **kwargs):\n",
    "        self.count += 1\n",
    "        print(f\"Call {self.count} of {self.func.__name__}\")\n",
    "        return self.func(*args, **kwargs)\n",
    "\n",
    "@CountCalls\n",
    "def hello(name):\n",
    "    return f\"Hello {name}\"\n",
    "\n",
    "print(hello(\"Alice\"))\n",
    "print(hello(\"Bob\"))\n"
   ],
   "id": "5a663824dafe7f5b"
  },
  {
   "metadata": {},
   "cell_type": "markdown",
   "source": [
    "### <span style=\"color:#CA762B\">**Metaprogramming Basics**</span>\n",
    "\n",
    "Metaprogramming involves writing code that manipulates code.\n"
   ],
   "id": "46a4764071f06c17"
  },
  {
   "metadata": {},
   "cell_type": "code",
   "outputs": [],
   "execution_count": null,
   "source": [
    "# Class factory function\n",
    "def create_data_class(class_name, attributes):\n",
    "    def __init__(self, **kwargs):\n",
    "        for key, value in kwargs.items():\n",
    "            if key not in attributes:\n",
    "                raise AttributeError(f\"Invalid attribute: {key}\")\n",
    "            setattr(self, key, value)\n",
    "    \n",
    "    def __repr__(self):\n",
    "        attrs = [f\"{key}={getattr(self, key)!r}\" for key in attributes]\n",
    "        return f\"{class_name}({', '.join(attrs)})\"\n",
    "    \n",
    "    # Create class dynamically\n",
    "    return type(class_name, (), {\n",
    "        '__init__': __init__,\n",
    "        '__repr__': __repr__\n",
    "    })\n",
    "\n",
    "# Create a Person class with name and age attributes\n",
    "Person = create_data_class('Person', ['name', 'age'])\n",
    "person = Person(name=\"Alice\", age=30)\n",
    "print(person)\n"
   ],
   "id": "da5394651a6b6039"
  },
  {
   "metadata": {},
   "cell_type": "markdown",
   "source": [
    "### <span style=\"color:#CA762B\">**Metaclasses**</span>\n",
    "\n",
    "Metaclasses are classes for classes, allowing you to customize class creation.\n"
   ],
   "id": "5fd348d6beabf9c8"
  },
  {
   "metadata": {},
   "cell_type": "code",
   "outputs": [],
   "execution_count": null,
   "source": [
    "class ValidationMeta(type):\n",
    "    def __new__(cls, name, bases, attrs):\n",
    "        # Add validation to all methods\n",
    "        for key, value in attrs.items():\n",
    "            if callable(value) and not key.startswith('__'):\n",
    "                attrs[key] = cls.validate_args(value)\n",
    "        return super().__new__(cls, name, bases, attrs)\n",
    "    \n",
    "    @staticmethod\n",
    "    def validate_args(func):\n",
    "        def wrapper(*args, **kwargs):\n",
    "            for arg in args[1:]:  # Skip self\n",
    "                if not isinstance(arg, (int, float)):\n",
    "                    raise TypeError(\"Arguments must be numbers\")\n",
    "            return func(*args, **kwargs)\n",
    "        return wrapper\n",
    "\n",
    "class Math(metaclass=ValidationMeta):\n",
    "    def add(self, x, y):\n",
    "        return x + y\n",
    "    \n",
    "    def multiply(self, x, y):\n",
    "        return x * y\n",
    "\n",
    "math = Math()\n",
    "print(math.add(2, 3))  # Works\n",
    "try:\n",
    "    math.add(\"2\", \"3\")  # Raises TypeError\n",
    "except TypeError as e:\n",
    "    print(f\"Error: {e}\")\n"
   ],
   "id": "9b3e7c3bfaad76ec"
  },
  {
   "metadata": {},
   "cell_type": "markdown",
   "source": [
    "### <span style=\"color:#CA762B\">**Practical Applications**</span>\n",
    "\n",
    "Real-world examples combining decorators and metaprogramming.\n"
   ],
   "id": "8b169c39f595a5"
  },
  {
   "metadata": {},
   "cell_type": "code",
   "outputs": [],
   "execution_count": null,
   "source": [
    "# API rate limiting decorator\n",
    "import time\n",
    "from collections import deque\n",
    "\n",
    "class RateLimit:\n",
    "    def __init__(self, calls_per_second):\n",
    "        self.calls_per_second = calls_per_second\n",
    "        self.calls = deque()\n",
    "    \n",
    "    def __call__(self, func):\n",
    "        @wraps(func)\n",
    "        def wrapper(*args, **kwargs):\n",
    "            now = time.time()\n",
    "            \n",
    "            # Remove old calls\n",
    "            while self.calls and self.calls[0] < now - 1:\n",
    "                self.calls.popleft()\n",
    "            \n",
    "            # Check rate limit\n",
    "            if len(self.calls) >= self.calls_per_second:\n",
    "                raise Exception(\"Rate limit exceeded\")\n",
    "            \n",
    "            self.calls.append(now)\n",
    "            return func(*args, **kwargs)\n",
    "        return wrapper\n",
    "\n",
    "# Example usage\n",
    "@RateLimit(calls_per_second=2)\n",
    "def api_call():\n",
    "    return \"API response\"\n",
    "\n",
    "# Test rate limiting\n",
    "for _ in range(3):\n",
    "    try:\n",
    "        print(api_call())\n",
    "        time.sleep(0.3)\n",
    "    except Exception as e:\n",
    "        print(f\"Error: {e}\")"
   ],
   "id": "bfc4e03560f4156f"
  }
 ],
 "metadata": {},
 "nbformat": 5,
 "nbformat_minor": 9
}
