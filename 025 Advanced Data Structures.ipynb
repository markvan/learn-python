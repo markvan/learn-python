{
 "cells": [
  {
   "metadata": {},
   "cell_type": "markdown",
   "source": [
    "### <span style=\"color:#CA762B\">**Advanced Data Structures in Python**</span>\n",
    "\n",
    "This notebook covers intermediate to advanced data structure concepts and their practical applications in Python.\n"
   ],
   "id": "b47780e0aabab3c8"
  },
  {
   "metadata": {},
   "cell_type": "markdown",
   "source": [
    "### <span style=\"color:#CA762B\">**Collections Module**</span>\n",
    "\n",
    "The collections module provides specialized container datatypes as alternatives to Python's general-purpose built-in containers.\n"
   ],
   "id": "88637bb1a21b8cc5"
  },
  {
   "metadata": {
    "ExecuteTime": {
     "end_time": "2025-02-25T22:09:43.120646Z",
     "start_time": "2025-02-25T22:09:43.115437Z"
    }
   },
   "cell_type": "code",
   "source": [
    "from collections import defaultdict, Counter, OrderedDict\n",
    "\n",
    "# defaultdict: Dictionary with default factory function\n",
    "word_lengths = defaultdict(int)\n",
    "print ('defaultdict ', type(defaultdict), ' -- word_lengths ', type(word_lengths) )\n",
    "# List methods of the class\n",
    "methods = [attr for attr in dir(word_lengths) if callable(getattr(word_lengths, attr)) and not attr.startswith(\"__\")]\n",
    "print(\"Methods:\", methods)\n",
    "\n",
    "sentence = \"this is a sample sentence\"\n",
    "for word in sentence.split():\n",
    "    word_lengths[word] = len(word)\n",
    "print(\"Default value for non-existent key:\", word_lengths['nonexistent'])\n",
    "print(\"Word lengths:\", dict(word_lengths))\n"
   ],
   "id": "b0260c5932b8ee9c",
   "outputs": [
    {
     "name": "stdout",
     "output_type": "stream",
     "text": [
      "defaultdict  <class 'type'>  -- word_lengths  <class 'collections.defaultdict'>\n",
      "Methods: ['clear', 'copy', 'default_factory', 'fromkeys', 'get', 'items', 'keys', 'pop', 'popitem', 'setdefault', 'update', 'values']\n",
      "Default value for non-existent key: 0\n",
      "Word lengths: {'this': 4, 'is': 2, 'a': 1, 'sample': 6, 'sentence': 8, 'nonexistent': 0}\n"
     ]
    }
   ],
   "execution_count": 5
  },
  {
   "metadata": {},
   "cell_type": "code",
   "outputs": [],
   "execution_count": null,
   "source": [
    "# Counter: Dict subclass for counting hashable objects\n",
    "inventory = Counter(['apple', 'banana', 'apple', 'orange', 'banana', 'apple'])\n",
    "print(\"Fruit count:\", inventory)\n",
    "print(\"Most common 2 fruits:\", inventory.most_common(2))\n"
   ],
   "id": "b78be5f35a6508a6"
  },
  {
   "metadata": {},
   "cell_type": "code",
   "outputs": [],
   "execution_count": null,
   "source": [
    "# OrderedDict: Dictionary that remembers insertion order\n",
    "od = OrderedDict()\n",
    "od['first'] = 1\n",
    "od['second'] = 2\n",
    "od['third'] = 3\n",
    "print(\"Ordered items:\", list(od.items()))\n"
   ],
   "id": "e6713993cace5620"
  },
  {
   "metadata": {},
   "cell_type": "markdown",
   "source": [
    "### <span style=\"color:#CA762B\">**Heap Queue (heapq) Module**</span>\n",
    "\n",
    "The heapq module provides implementation of the heap queue algorithm.\n"
   ],
   "id": "6959df3e181d2a9f"
  },
  {
   "metadata": {
    "ExecuteTime": {
     "end_time": "2025-02-25T22:10:29.718369Z",
     "start_time": "2025-02-25T22:10:29.713329Z"
    }
   },
   "cell_type": "code",
   "source": [
    "import heapq\n",
    "\n",
    "# Creating a heap\n",
    "numbers = [3, 1, 4, 1, 5, 9, 2, 6, 5, 3, 5]\n",
    "heapq.heapify(numbers)\n",
    "print(\"Heap:\", numbers)\n",
    "\n",
    "# Push and pop from heap\n",
    "heapq.heappush(numbers, 0)\n",
    "smallest = heapq.heappop(numbers)\n",
    "print(\"Smallest number:\", smallest)\n",
    "\n",
    "# Get n largest/smallest elements\n",
    "largest = heapq.nlargest(3, numbers)\n",
    "smallest = heapq.nsmallest(3, numbers)\n",
    "print(\"3 largest numbers:\", largest)\n",
    "print(\"3 smallest numbers:\", smallest)\n"
   ],
   "id": "140a538930af8a59",
   "outputs": [
    {
     "name": "stdout",
     "output_type": "stream",
     "text": [
      "Heap: [1, 1, 2, 3, 3, 9, 4, 6, 5, 5, 5]\n",
      "Smallest number: 0\n",
      "3 largest numbers: [9, 6, 5]\n",
      "3 smallest numbers: [1, 1, 2]\n"
     ]
    }
   ],
   "execution_count": 6
  },
  {
   "metadata": {},
   "cell_type": "markdown",
   "source": [
    "### <span style=\"color:#CA762B\">**Bisect Module**</span>\n",
    "\n",
    "The bisect module provides support for maintaining sorted lists.\n"
   ],
   "id": "63b9b611ec52b6db"
  },
  {
   "metadata": {
    "ExecuteTime": {
     "end_time": "2025-02-27T21:36:24.167661Z",
     "start_time": "2025-02-27T21:36:24.165371Z"
    }
   },
   "cell_type": "code",
   "source": [
    "import bisect\n",
    "\n",
    "# Sorted insertion\n",
    "print(type(bisect))\n",
    "sorted_numbers = [1, 2, 3, 5, 6, 8, 9]\n",
    "bisect.insort(sorted_numbers, 4)\n",
    "print(\"After insertion:\", sorted_numbers)\n",
    "\n",
    "# Finding insertion point\n",
    "pos = bisect.bisect_left(sorted_numbers, 7)\n",
    "print(\"Position to insert 7:\", pos)\n",
    "\n"
   ],
   "id": "876f0a7fe20d57dd",
   "outputs": [
    {
     "name": "stdout",
     "output_type": "stream",
     "text": [
      "<class 'module'>\n",
      "After insertion: [1, 2, 3, 4, 5, 6, 8, 9]\n",
      "Position to insert 7: 6\n"
     ]
    }
   ],
   "execution_count": 4
  },
  {
   "metadata": {},
   "cell_type": "markdown",
   "source": [
    "### <span style=\"color:#CA762B\">**Advanced List/Dict Comprehensions**</span>\n",
    "\n",
    "Complex comprehensions and nested comprehensions for more sophisticated data transformations.\n"
   ],
   "id": "c03387ec4989a795"
  },
  {
   "metadata": {},
   "cell_type": "code",
   "outputs": [],
   "execution_count": null,
   "source": [
    "# Nested list comprehension\n",
    "matrix = [[1, 2, 3], [4, 5, 6], [7, 8, 9]]\n",
    "transposed = [[row[i] for row in matrix] for i in range(3)]\n",
    "print(\"Transposed matrix:\", transposed)\n",
    "\n",
    "# Conditional list comprehension\n",
    "numbers = [-4, -2, 0, 2, 4]\n",
    "pos_even = [x for x in numbers if x > 0 and x % 2 == 0]\n",
    "print(\"Positive even numbers:\", pos_even)\n",
    "\n",
    "# Dict comprehension with conditional\n",
    "squares = {x: x**2 for x in range(5) if x % 2 == 0}\n",
    "print(\"Squares of even numbers:\", squares)\n"
   ],
   "id": "fa0d5f4861e6994b"
  },
  {
   "metadata": {},
   "cell_type": "markdown",
   "source": [
    "### <span style=\"color:#CA762B\">**Practical Applications**</span>\n",
    "\n",
    "Real-world examples combining multiple concepts.\n"
   ],
   "id": "34deabbf0dd7809b"
  },
  {
   "metadata": {},
   "cell_type": "code",
   "outputs": [],
   "execution_count": null,
   "source": [
    "# Example: Word frequency analysis\n",
    "text = \"\"\"Python is an amazing programming language.\n",
    "Python is widely used in data science.\n",
    "Programming in Python is fun.\"\"\"\n",
    "\n",
    "# Using multiple concepts together\n",
    "words = text.lower().split()\n",
    "word_freq = Counter(words)\n",
    "common_words = heapq.nlargest(3, word_freq.items(), key=lambda x: x[1])\n",
    "word_categories = defaultdict(list)\n",
    "\n",
    "for word, freq in word_freq.items():\n",
    "    word_categories[freq].append(word)\n",
    "\n",
    "print(\"Most common words:\", common_words)\n",
    "print(\"Words by frequency:\", dict(word_categories))"
   ],
   "id": "88ce2c5369086c05"
  }
 ],
 "metadata": {
  "kernelspec": {
   "name": "python3",
   "language": "python",
   "display_name": "Python 3 (ipykernel)"
  }
 },
 "nbformat": 5,
 "nbformat_minor": 9
}
