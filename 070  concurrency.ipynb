{
 "cells": [
  {
   "cell_type": "markdown",
   "metadata": {},
   "source": [
    "### <span style=\"color:#CA762B\">**Concurrency in Python**</span>\n",
    "\n",
    "Concurrency is the ability of a program to manage multiple tasks at the same time. It doesn't necessarily mean running them simultaneously (as in parallelism). Instead, concurrency focuses on efficiently handling multiple tasks to improve performance by overlapping their execution.\n",
    "\n",
    "Python provides several approaches to achieve concurrency:\n",
    "\n",
    "1. **Threading**\n",
    "2. **Multiprocessing**\n",
    "3. **Asynchronous Programming with asyncio**"
   ],
   "id": "4745fddfc2a1b79d"
  },
  {
   "cell_type": "markdown",
   "metadata": {},
   "source": [
    "### <span style=\"color:#CA762B\">Using the `threading` Module</span>\n",
    "\n",
    "Threading is a technique that allows multiple threads (lightweight processes) to execute in the same memory space. In Python, the `threading` module provides tools for creating and managing threads.\n",
    "\n",
    "**When to Use Threading:**\n",
    "- Best suited for I/O-bound tasks (e.g., reading/writing files, network communication).\n",
    "- Not effective for CPU-bound tasks due to Python's Global Interpreter Lock (GIL), which restricts threads to execute one at a time."
   ],
   "id": "330358ecc6af65fc"
  },
  {
   "cell_type": "code",
   "metadata": {},
   "source": [
    "import threading\n\n# Example: Using Threads to print messages\n\ndef print_numbers():\n    for i in range(5):\n        print(f\"Thread: {i}\")\n\ndef print_letters():\n    for letter in 'ABCDE':\n        print(f\"Thread: {letter}\")\n\n# Creating threads\nthread1 = threading.Thread(target=print_numbers)\nthread2 = threading.Thread(target=print_letters)\n\n# Starting threads\nthread1.start()\nthread2.start()\n\n# Waiting for both threads to finish\nthread1.join()\nthread2.join()\n\nprint(\"All threads have finished.\")"
   ],
   "id": "1790c79a6773dc3a",
   "outputs": [],
   "execution_count": null
  },
  {
   "cell_type": "markdown",
   "metadata": {},
   "source": [
    "### <span style=\"color:#CA762B\">Using the `multiprocessing` Module</span>\n",
    "\n",
    "The `multiprocessing` module enables parallel execution by creating **multiple processes**, each with its own memory space. It bypasses the Global Interpreter Lock (GIL), making it suitable for CPU-bound tasks.\n",
    "\n",
    "**When to Use Multiprocessing:**\n",
    "- Best for CPU-bound tasks (e.g., computations, data processing).\n",
    "- Higher memory consumption due to separate processes."
   ],
   "id": "d660d18f49ab42f8"
  },
  {
   "cell_type": "code",
   "metadata": {},
   "source": [
    "import multiprocessing\n\n# Example: Using multiprocessing to calculate squares of numbers\n\ndef calculate_square(numbers):\n    for n in numbers:\n        print(f\"Square of {n}: {n * n}\")\n\nif __name__ == \"__main__\":\n    numbers = [1, 2, 3, 4, 5]\n    # Creating a process\n    process = multiprocessing.Process(target=calculate_square, args=(numbers,))\n\n    # Starting the process\n    process.start()\n\n    # Waiting for the process to finish\n    process.join()\n\n    print(\"Multiprocessing complete.\")"
   ],
   "id": "39b8b05d5088e9bf",
   "outputs": [],
   "execution_count": null
  },
  {
   "cell_type": "markdown",
   "metadata": {},
   "source": [
    "### <span style=\"color:#CA762B\">**Asynchronous Programming with `asyncio`** </span>\n",
    "\n",
    "\n",
    "The `asyncio` module in Python allows you to write asynchronous code using `async` and `await` keywords. Unlike threading or multiprocessing, asyncio uses a **single-threaded, cooperative multitasking** approach, making it lightweight and efficient for I/O-bound tasks.\n",
    "\n",
    "**When to Use `asyncio`:**\n",
    "- Best for I/O-bound tasks, such as handling multiple network requests.\n",
    "- Lightweight compared to threading and multiprocessing."
   ],
   "id": "2f6fc4a4ccfb6d5f"
  },
  {
   "cell_type": "code",
   "metadata": {},
   "source": [
    "import asyncio\n\n# Example: Using asyncio to perform two tasks concurrently\n\nasync def task1():\n    for i in range(3):\n        print(f\"Task 1: {i}\")\n        await asyncio.sleep(1)  # Simulating I/O delay\n\nasync def task2():\n    for i in range(3):\n        print(f\"Task 2: {i}\")\n        await asyncio.sleep(1)  # Simulating I/O delay\n\nasync def main():\n    await asyncio.gather(task1(), task2())\n\n# Running the asyncio event loop\nasyncio.run(main())"
   ],
   "id": "92c1cc8153cf3b7b",
   "outputs": [],
   "execution_count": null
  },
  {
   "cell_type": "markdown",
   "metadata": {},
   "source": [
    "### <span style=\"color:#CA762B\">**Comparison of Concurrency Techniques**</span>\n",
    "\n",
    "| **Technique**     | **Best For**                      | **Drawbacks**                                                                 |\n",
    "|-------------------|----------------------------------|------------------------------------------------------------------------------|\n",
    "| `threading`       | I/O-bound tasks                 | Limited by the Global Interpreter Lock (GIL), not effective for CPU-bound tasks. |\n",
    "| `multiprocessing` | CPU-bound tasks                 | Higher resource usage due to process overhead.                                 |\n",
    "| `asyncio`         | Lightweight I/O-bound tasks     | Requires re-writing functions as coroutines, single-threaded.                 |"
   ],
   "id": "5a8e5226bdc60f4c"
  },
  {
   "cell_type": "markdown",
   "metadata": {},
   "source": [
    "### <span style=\"color:#CA762B\">### **Combining Concurrency Techniques**</span>\n",
    "\n",
    "In some cases, you might need to combine concurrency techniques. For example:\n",
    "- Use `multiprocessing` for CPU-bound tasks.\n",
    "- Use `asyncio` for I/O-bound tasks within a multiprocessing setup.\n",
    "\n",
    "Here's a simplified example to demonstrate this combination:"
   ],
   "id": "53eac52e562eebfb"
  },
  {
   "cell_type": "code",
   "metadata": {},
   "source": [
    "import multiprocessing\nimport asyncio\n\n# CPU-bound calculation\n\ndef cpu_bound_task(n):\n    return sum(i * i for i in range(n))\n\n# Async I/O-bound task\nasync def io_bound_task():\n    print(\"Starting I/O task\")\n    await asyncio.sleep(2)  # Simulate I/O delay\n    print(\"I/O task complete\")\n\n# Running I/O tasks concurrently in async loop\nasync def async_main():\n    await asyncio.gather(io_bound_task(), io_bound_task())\n\n# Main function\nif __name__ == \"__main__\":\n    # Creating a pool of processes for CPU-bound tasks\n    with multiprocessing.Pool(2) as pool:\n        results = pool.map(cpu_bound_task, [10**5, 10**6])\n        print(f\"CPU-bound results: {results}\")\n\n    # Running asyncio tasks\n    asyncio.run(async_main())"
   ],
   "id": "6c9e821e7c0a0de3",
   "outputs": [],
   "execution_count": null
  },
  {
   "cell_type": "markdown",
   "metadata": {},
   "source": [
    "### <span style=\"color:#CA762B\">### **Conclusion**</span>\n",
    "\n",
    "1. Use `threading` for lightweight I/O tasks with shared memory.\n",
    "2. Use `multiprocessing` for CPU-intensive tasks that require parallelism.\n",
    "3. Use `asyncio` for I/O-bound tasks with a large number of concurrent connections.\n",
    "4. Combine techniques where appropriate based on your application's needs.\n",
    "\n",
    "Understanding the trade-offs of each approach allows you to choose the best concurrency method for your Python programs."
   ],
   "id": "733ca5845901db9d"
  }
 ]
}
