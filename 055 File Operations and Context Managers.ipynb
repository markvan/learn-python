{
 "cells": [
  {
   "metadata": {},
   "cell_type": "code",
   "outputs": [],
   "execution_count": null,
   "source": [
    "### <span style=\"color:#CA762B\">**File Operations and Context Managers in Python**</span>\n",
    "\n",
    "This notebook covers advanced file operations and the context manager protocol in Python.\n"
   ],
   "id": "51a0adaa9f0c7093"
  },
  {
   "metadata": {},
   "cell_type": "markdown",
   "source": [
    "### <span style=\"color:#CA762B\">**Advanced File Operations**</span>\n",
    "\n",
    "Python provides powerful tools for file handling beyond basic read and write operations.\n"
   ],
   "id": "fd169c702015a2dd"
  },
  {
   "metadata": {},
   "cell_type": "code",
   "outputs": [],
   "execution_count": null,
   "source": [
    "# Different file modes and encoding\n",
    "with open('example.txt', 'w', encoding='utf-8') as f:\n",
    "    f.write('Hello, World!\\nThis is a test file.\\n')\n",
    "    f.write('Multiple lines can be written.')\n",
    "\n",
    "# Reading with different methods\n",
    "with open('example.txt', 'r', encoding='utf-8') as f:\n",
    "    # Read entire file\n",
    "    content = f.read()\n",
    "    print(\"Entire file:\", content)\n"
   ],
   "id": "5445b398293e424e"
  },
  {
   "metadata": {},
   "cell_type": "code",
   "outputs": [],
   "execution_count": null,
   "source": [
    "# Seeking and telling position\n",
    "with open('example.txt', 'r') as f:\n",
    "    # Get current position\n",
    "    print(\"Initial position:\", f.tell())\n",
    "    \n",
    "    # Read first line\n",
    "    first_line = f.readline()\n",
    "    print(\"After first line:\", f.tell())\n",
    "    \n",
    "    # Seek to beginning\n",
    "    f.seek(0)\n",
    "    print(\"After seeking to start:\", f.tell())\n"
   ],
   "id": "aa1db19a968a45d7"
  },
  {
   "metadata": {},
   "cell_type": "markdown",
   "source": [
    "### <span style=\"color:#CA762B\">**Context Managers (`with` statement)**</span>\n",
    "\n",
    "Context managers provide a clean way to handle resource management.\n"
   ],
   "id": "c8caefa0a86e94a1"
  },
  {
   "metadata": {},
   "cell_type": "code",
   "outputs": [],
   "execution_count": null,
   "source": [
    "# Basic context manager usage\n",
    "class FileManager:\n",
    "    def __init__(self, filename, mode):\n",
    "        self.filename = filename\n",
    "        self.mode = mode\n",
    "        self.file = None\n",
    "    \n",
    "    def __enter__(self):\n",
    "        self.file = open(self.filename, self.mode)\n",
    "        return self.file\n",
    "    \n",
    "    def __exit__(self, exc_type, exc_val, exc_tb):\n",
    "        if self.file:\n",
    "            self.file.close()\n",
    "\n",
    "# Using our custom context manager\n",
    "with FileManager('example.txt', 'r') as f:\n",
    "    content = f.read()\n",
    "    print(\"Content read with custom manager:\", content[:50])\n"
   ],
   "id": "5a6035eb148ceaab"
  },
  {
   "metadata": {},
   "cell_type": "markdown",
   "source": [
    "### <span style=\"color:#CA762B\">**Creating Context Managers with contextlib**</span>\n",
    "\n",
    "The contextlib module provides utilities for working with context managers.\n"
   ],
   "id": "5171079865d2623d"
  },
  {
   "metadata": {},
   "cell_type": "code",
   "outputs": [],
   "execution_count": null,
   "source": [
    "from contextlib import contextmanager\n",
    "import time\n",
    "\n",
    "@contextmanager\n",
    "def timer():\n",
    "    start = time.time()\n",
    "    yield\n",
    "    end = time.time()\n",
    "    print(f\"Execution time: {end - start:.2f} seconds\")\n",
    "\n",
    "# Using the timer context manager\n",
    "with timer():\n",
    "    # Some time-consuming operation\n",
    "    sum(i * i for i in range(1000000))\n"
   ],
   "id": "b1eaa9c5d5910544"
  },
  {
   "metadata": {},
   "cell_type": "markdown",
   "source": [
    "### <span style=\"color:#CA762B\">**File-like Objects**</span>\n",
    "\n",
    "Understanding and working with file-like objects in Python.\n"
   ],
   "id": "ec1ef19f74d283c0"
  },
  {
   "metadata": {},
   "cell_type": "code",
   "outputs": [],
   "execution_count": null,
   "source": [
    "from io import StringIO, BytesIO\n",
    "\n",
    "# StringIO: text file-like object\n",
    "text_buffer = StringIO()\n",
    "text_buffer.write('Hello, StringIO!\\n')\n",
    "text_buffer.write('This is in memory.')\n",
    "\n",
    "# Get the content\n",
    "text_buffer.seek(0)\n",
    "print(\"StringIO content:\", text_buffer.read())\n",
    "text_buffer.close()\n"
   ],
   "id": "a1da1d22291f119f"
  },
  {
   "metadata": {},
   "cell_type": "code",
   "outputs": [],
   "execution_count": null,
   "source": [
    "# BytesIO: binary file-like object\n",
    "binary_buffer = BytesIO()\n",
    "binary_buffer.write(b'Hello, BytesIO!')\n",
    "\n",
    "# Get the content\n",
    "binary_buffer.seek(0)\n",
    "print(\"BytesIO content:\", binary_buffer.read())\n",
    "binary_buffer.close()\n"
   ],
   "id": "2d94d02550d14900"
  },
  {
   "metadata": {},
   "cell_type": "markdown",
   "source": [
    "### <span style=\"color:#CA762B\">**Practical Applications**</span>\n",
    "\n",
    "Real-world examples combining multiple concepts.\n"
   ],
   "id": "3018086f11da9bb2"
  },
  {
   "metadata": {},
   "cell_type": "code",
   "outputs": [],
   "execution_count": null,
   "source": [
    "import contextlib\n",
    "import sys\n",
    "from io import StringIO\n",
    "\n",
    "# Creating a context manager for capturing stdout\n",
    "@contextmanager\n",
    "def capture_output():\n",
    "    new_stdout = StringIO()\n",
    "    old_stdout = sys.stdout\n",
    "    sys.stdout = new_stdout\n",
    "    try:\n",
    "        yield new_stdout\n",
    "    finally:\n",
    "        sys.stdout = old_stdout\n",
    "\n",
    "# Using the capture_output context manager\n",
    "with capture_output() as output:\n",
    "    print(\"This will be captured\")\n",
    "    print(\"This too!\")\n",
    "\n",
    "print(\"Captured output:\", output.getvalue())\n"
   ],
   "id": "681472b4906275bb"
  },
  {
   "metadata": {},
   "cell_type": "code",
   "outputs": [],
   "execution_count": null,
   "source": [
    "# Example: Safe file processing with multiple context managers\n",
    "from contextlib import ExitStack\n",
    "\n",
    "def process_multiple_files(file_list):\n",
    "    with ExitStack() as stack:\n",
    "        # Open all files at once\n",
    "        files = [stack.enter_context(open(f, 'r')) for f in file_list]\n",
    "        # Process files...\n",
    "        return [f.readline() for f in files]\n",
    "\n",
    "# Note: This would work with actual files\n",
    "# print(process_multiple_files(['file1.txt', 'file2.txt']))"
   ],
   "id": "fdaaa30ef54505d4"
  }
 ],
 "metadata": {},
 "nbformat": 5,
 "nbformat_minor": 9
}
